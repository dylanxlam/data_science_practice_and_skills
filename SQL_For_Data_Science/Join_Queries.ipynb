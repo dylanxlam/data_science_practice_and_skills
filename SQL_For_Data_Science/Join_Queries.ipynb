{
 "cells": [
  {
   "cell_type": "markdown",
   "metadata": {},
   "source": [
    "### **Joins**\n",
    "In relational databases, reports are generated from data in multiple tables. Multi-table reports are written with join statements.\n",
    "\n",
    "A ***join*** is a SELECT statement that combines data from two tables, known as the ***left table*** and ***right table***, into a single result. The tables are combined by comparing columns from the left and right tables, usually with the = operator. The columns must have comparable data types.\n",
    "\n",
    "Usually, a join compares a foreign key of one table to the primary key of another. However, a join can compare columns with comparable data types.\n",
    "\n",
    "    SELECT DepartmentName, EmployeeName\n",
    "    FROM Department, Employee\n",
    "    WHERE Manager = ID; \n",
    "    -- Manager (Department Foreign Key), ID (Employee Primary Key)\n",
    "\n",
    "---"
   ]
  },
  {
   "cell_type": "markdown",
   "metadata": {},
   "source": [
    "#### **Prefixes and aliases**\n",
    "Occasionally, join tables contain columns with the same name. When duplicate column names appear in a query, the names must be distinguished with a prefix. The prefix is the table name followed by a period.\n",
    "\n",
    "Use of a prefix makes column names more complex. To simplify queries or result tables, a column name can be replaced with an alias. The alias follows the column name, separated by an optional ***AS*** keyword.\n",
    "\n",
    "Ex: In the figure below, the Name column appears in both tables and thus must have a prefix in the join query. Department.Name and Employee.Name are assigned aliases Group and Supervisor, which simplify the result column names.\n",
    "\n",
    "    SELECT Department.Name AS Group, \n",
    "       Employee.Name AS Supervisor\n",
    "    FROM Department, Employee\n",
    "    WHERE Manager = ID;\n",
    "\n",
    "---"
   ]
  },
  {
   "cell_type": "markdown",
   "metadata": {},
   "source": [
    "#### **Inner and full joins**\n",
    "A ***join clause*** determines how a join query handles unmatched rows. Two common join clauses are:\n",
    "\n",
    "- ***INNER JOIN***, which selects only matching left and right table rows.\n",
    "- ***FULL JOIN***, which selects all left and right table rows, regardless of match.\n",
    "In a FULL JOIN result table, unmatched left table rows appear with NULL values in right table columns and vice versa.\n",
    "\n",
    "The join clause appears between a FROM clause and an ON clause. Specifically:\n",
    "\n",
    "The FROM clause specifies the left table.\n",
    "The INNER JOIN or FULL JOIN clause specifies the right table.\n",
    "The ***ON*** clause specifies the join columns.\n",
    "An optional WHERE clause follows the ON clause.\n",
    "\n",
    "\n",
    "    SELECT Department.Name AS Group,\n",
    "      Employee.Name AS Supervisor\n",
    "    FROM Department\n",
    "          Employee\n",
    "    ON Manager = ID;\n",
    "\n",
    "    SELECT Department.Name AS Group,\n",
    "      Employee.Name AS Supervisor\n",
    "    FROM Department\n",
    "         Employee\n",
    "    ON Manager = ID;\n",
    "\n",
    "---"
   ]
  },
  {
   "cell_type": "markdown",
   "metadata": {},
   "source": [
    "#### **Left and right joins**\n",
    "In some cases, the database user wants to see unmatched rows from either the left or right table, but not both. To enable these cases, relational databases support left and right joins:\n",
    "\n",
    "- ***LEFT JOIN*** selects all left table rows, but only matching right table rows.\n",
    "- ***RIGHT JOIN*** selects all right table rows, but only matching left table rows.\n",
    "An ***outer join*** is any join that selects unmatched rows. Left, right, and full joins are all outer joins.\n",
    "\n",
    "Join clauses are standard SQL syntax and supported by most relational databases. Ex: MySQL supports INNER, LEFT, and RIGHT JOIN but not FULL JOIN.\n",
    "\n",
    "    SELECT Department.Name AS Group,\n",
    "      Employee.Name AS Supervisor\n",
    "    FROM Department\n",
    "         Employee\n",
    "    ON Manager = ID;\n",
    "\n",
    "    SELECT Department.Name AS Group,\n",
    "      Employee.Name AS Supervisor\n",
    "    FROM Department\n",
    "          Employee\n",
    "    ON Manager = ID;\n",
    "\n",
    "---"
   ]
  },
  {
   "cell_type": "markdown",
   "metadata": {},
   "source": [
    "#### **Equijoins**\n",
    "An equijoin compares columns of two tables with the = operator. Most joins are equijoins. A non-equijoin compares columns with an operator other than =, such as <, >, ≤, and ≥.\n",
    "\n",
    "In the figure below, a non-equijoin selects all buyers along with properties priced below the buyer's maximum price.\n",
    "\n",
    "    SELECT Name, Address\n",
    "    FROM Buyer\n",
    "    LEFT JOIN Property\n",
    "    ON Price < MaxPrice;\n",
    "\n",
    "---"
   ]
  }
 ],
 "metadata": {
  "language_info": {
   "name": "python"
  },
  "orig_nbformat": 4
 },
 "nbformat": 4,
 "nbformat_minor": 2
}
