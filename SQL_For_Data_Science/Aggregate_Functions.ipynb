{
 "cells": [
  {
   "cell_type": "markdown",
   "metadata": {},
   "source": [
    "#### **Simple functions**\n",
    "A ***simple function*** operates on an expression enclosed in parentheses, called an ***argument***, and returns a value. The expression is usually a column name or fixed value, but may include operators and other functions. Some functions have several arguments, separated by commas, and a few have no arguments.\n",
    "\n",
    "Each simple function operates on, and evaluates to, specific data types. Ex: The LOG function operates on any numeric data type and returns a DOUBLE value. If the argument is invalid, the function returns NULL. Ex: The SQRT function computes the square root of positive numbers only, so SQRT(-1) returns NULL.\n",
    "\n",
    "Most simple functions operate on numeric, string, or date and time values. Common simple functions in SQL appear below."
   ]
  },
  {
   "cell_type": "markdown",
   "metadata": {},
   "source": [
    "##### **Simple Functions**\n",
    "\n",
    "Numeric type:\n",
    "- ABS(n)\n",
    "- LOG(n)\n",
    "- POW(x,y)\n",
    "- RAND() Random number between 0 (inclusive) and 1 (exclusive)\t\n",
    "- ROUND(n,d) n rounded to d decimal places\t\n",
    "- SQRT(n)\n",
    "\n",
    "String type:\n",
    "- CONCAT(s1, s2, ...)\n",
    "- LOWER(s) s converted to lower case\t\n",
    "- UPPER(s)\n",
    "- REPLACE(s, from, to) s with all occurrences of from replaced by to\t\n",
    "- SUBSTRING(s, pos, len) Substring of s that starts at position pos with length len\t\n",
    "\n",
    "\n",
    "\n",
    "Date Time type: \n",
    "\n",
    "   Current date, time, or date and time in 'YYYY-MM-DD', 'HH:MM:SS', or 'YYYY-MM-DD HH:MM:SS' format\n",
    "\n",
    "- CURDATE()\n",
    "- CURTIME()\n",
    "- NOW()\n",
    "\n",
    "    Day, month, or year of d\t\n",
    "\n",
    "- DAY(d)\n",
    "- MONTH(d)\n",
    "- YEAR(d)\n",
    "\n",
    "    Hour, minute, or second of t\t\n",
    "\n",
    "- HOUR(t)\n",
    "- MINUTE(t)\n",
    "- SECOND(t)\n",
    "\n",
    "    Difference of dt1 − dt2, in number of days or amount of time\t\n",
    "\n",
    "- DATEDIFF(dt1, dt2)\n",
    "- TIMEDIFF(dt1, dt2)\n",
    "\t\n",
    "---\n"
   ]
  },
  {
   "cell_type": "markdown",
   "metadata": {},
   "source": [
    "#### **Aggregate Functions**\n",
    "An ***aggregate function*** processes values from a set of rows and returns a summary value. Aggregate functions appear in a SELECT clause and process all rows that satisfy the WHERE clause condition. If a SELECT statement has no WHERE clause, the aggregate function processes all rows.\n",
    "\n",
    "Common aggregate functions are:\n",
    "\n",
    "- **COUNT()** counts the number of selected values.\n",
    "- **MIN()** finds the minimum of selected values.\n",
    "- **MAX()** finds the maximum of selected values.\n",
    "- **SUM()** sums selected values.\n",
    "- **AVG()** computes the arithmetic mean of selected values.\n",
    "- **VARIANCE()** computes the standard variance of selected values.\n",
    "\n",
    "Aggregate functions have a single argument. The argument may be any expression but is usually a column name. Aggregate functions ignore rows for which the expression evaluates to NULL.\n",
    "\n",
    "**Examples:**\n",
    "\n",
    "    SELECT COUNT(*) \n",
    "    FROM Employee \n",
    "    WHERE Bonus > 500;\n",
    "\n",
    "    SELECT MIN(Salary) \n",
    "    FROM Employee;\n",
    "\n",
    "    SELECT AVG(Salary) \n",
    "    FROM Employee;\n",
    "\n",
    "---"
   ]
  },
  {
   "cell_type": "markdown",
   "metadata": {},
   "source": [
    "#### **GROUP BY clause**\n",
    "Aggregate functions are commonly used with the ***GROUP BY*** clause. The GROUP BY clause groups rows with identical values into a set of summary rows. Some important points about the GROUP BY clause:\n",
    "\n",
    "- One or more columns are listed after GROUP BY, separated by commas.\n",
    "- GROUP BY clause returns one row for each group.\n",
    "- Each group may be ordered with the ORDER BY clause.\n",
    "- GROUP BY clause must appear before the ORDER BY clause and after the WHERE clause (if present).\n",
    "\n",
    "**Examples:**\n",
    "\n",
    "    SELECT CountryCode, SUM(Population)\n",
    "    FROM City\n",
    "    GROUP BY CountryCode;\n",
    "\n",
    "    SELECT CountryCode, District, COUNT(*)\n",
    "    FROM City\n",
    "    GROUP BY CountryCode, District;\n",
    "\n",
    "---"
   ]
  },
  {
   "cell_type": "markdown",
   "metadata": {},
   "source": [
    "#### **HAVING clause**\n",
    "\n",
    "The ***HAVING*** clause is used with the GROUP BY clause to filter group results. The optional HAVING clause follows the GROUP BY clause and precedes the optional ORDER BY clause.\n",
    "\n",
    "The HAVING clause must include the same aggregate function that appears in the SELECT clause.\n",
    "\n",
    "**Examples:**\n",
    "\n",
    "    SELECT CountryCode, SUM(Population)\n",
    "    FROM City\n",
    "    GROUP BY CountryCode\n",
    "    HAVING SUM(Population) > 2300000;   \n",
    "\n",
    "Although the GROUP BY clause creates two groups based on CountryCode, the HAVING clause selects only the group with a population sum > 2,300,000.\n",
    "\n",
    "    SELECT CountryCode, District, COUNT(*)\n",
    "    FROM City\n",
    "    GROUP BY CountryCode, District\n",
    "    HAVING COUNT(*) >= 2;\n",
    "\n",
    "The HAVING clause selects only groups that have a row count >= 2.\n",
    "Only the ZMB, 2 and ZWE, 1 groups have at least 2 rows.\n",
    "\n",
    "---\n"
   ]
  },
  {
   "cell_type": "code",
   "execution_count": 1,
   "metadata": {},
   "outputs": [],
   "source": [
    "%load_ext sql"
   ]
  },
  {
   "cell_type": "markdown",
   "metadata": {},
   "source": [
    "The given SQL creates a Song table and inserts songs. The SELECT statement selects the genre and row count for each genre group and uses MAX() to find the most recent release year for each genre. Then the HAVING clause  selects only genre groups that have more than one row count."
   ]
  },
  {
   "cell_type": "code",
   "execution_count": 10,
   "metadata": {
    "vscode": {
     "languageId": "sql"
    }
   },
   "outputs": [
    {
     "name": "stdout",
     "output_type": "stream",
     "text": [
      "Done.\n",
      "9 rows affected.\n",
      "Done.\n"
     ]
    },
    {
     "data": {
      "text/html": [
       "<table>\n",
       "    <thead>\n",
       "        <tr>\n",
       "            <th>Genre</th>\n",
       "            <th>COUNT(*)</th>\n",
       "            <th>MAX(ReleaseYear)</th>\n",
       "        </tr>\n",
       "    </thead>\n",
       "    <tbody>\n",
       "        <tr>\n",
       "            <td>R&amp;B</td>\n",
       "            <td>2</td>\n",
       "            <td>1993</td>\n",
       "        </tr>\n",
       "        <tr>\n",
       "            <td>country pop</td>\n",
       "            <td>3</td>\n",
       "            <td>2009</td>\n",
       "        </tr>\n",
       "        <tr>\n",
       "            <td>grunge</td>\n",
       "            <td>3</td>\n",
       "            <td>1994</td>\n",
       "        </tr>\n",
       "    </tbody>\n",
       "</table>"
      ],
      "text/plain": [
       "[('R&B', 2, 1993), ('country pop', 3, 2009), ('grunge', 3, 1994)]"
      ]
     },
     "execution_count": 10,
     "metadata": {},
     "output_type": "execute_result"
    }
   ],
   "source": [
    "%%sql sqlite://\n",
    "\n",
    "CREATE TABLE Music (\n",
    "  ID INT,\n",
    "  Title VARCHAR(60),\n",
    "  Artist VARCHAR(60),\n",
    "  ReleaseYear INT,\n",
    "  Genre VARCHAR(20),\n",
    "  PRIMARY KEY (ID)\n",
    ");\n",
    "\n",
    "INSERT INTO Music VALUES\n",
    "  (100, 'Hey Jude', 'Beatles', 1968, 'pop rock'),\n",
    "  (200, 'You Belong With Me', 'Taylor Swift', 2008, 'country pop'),\n",
    "  (300, 'You''re Still the One', 'Shania Twain', 1998, 'country pop'),\n",
    "  (400, 'Need You Now', 'Lady Antebellum', 2009, 'country pop'), \n",
    "  (500, 'You''ve Lost That Lovin Feeling', 'The Righteous Brothers', 1964, 'R&B'),\n",
    "  (600, 'That''s The Way Love Goes', 'Janet Jackson', 1993, 'R&B'),\n",
    "  (700, 'Smells Like Teen Spirit', 'Nirvana', 1991, 'grunge'),\n",
    "  (800, 'Even Flow', 'Pearl Jam', 1992, 'grunge'),\n",
    "  (900, 'Black Hole Sun', 'Soundgarden', 1994, 'grunge');\n",
    "\n",
    "-- Modify the SELECT statement\n",
    "SELECT Genre, COUNT(*), MAX(ReleaseYear)\n",
    "FROM Music\n",
    "GROUP BY Genre\n",
    "HAVING COUNT(*) > 1;"
   ]
  }
 ],
 "metadata": {
  "kernelspec": {
   "display_name": "myenv",
   "language": "python",
   "name": "python3"
  },
  "language_info": {
   "codemirror_mode": {
    "name": "ipython",
    "version": 3
   },
   "file_extension": ".py",
   "mimetype": "text/x-python",
   "name": "python",
   "nbconvert_exporter": "python",
   "pygments_lexer": "ipython3",
   "version": "3.8.17"
  },
  "orig_nbformat": 4
 },
 "nbformat": 4,
 "nbformat_minor": 2
}
