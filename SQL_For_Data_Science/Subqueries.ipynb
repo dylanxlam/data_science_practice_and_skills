{
 "cells": [
  {
   "cell_type": "markdown",
   "metadata": {},
   "source": [
    "#### **Subqueries**\n",
    "A ***subquery***, sometimes called a ***nested query*** or ***inner query***, is a query within another SQL query. The subquery is typically used in a SELECT statement's WHERE clause to return data to the outer query and restrict the selected results. The subquery is placed inside parentheses ().\n",
    "\n",
    "    SELECT Language, Percentage\n",
    "    FROM CountryLanguage\n",
    "    WHERE Percentage > \n",
    "        (SELECT Percentage\n",
    "        FROM CountryLanguage\n",
    "        WHERE CountryCode = 'ABW'\n",
    "            AND IsOfficial = 'T');\n",
    "\n",
    "    SELECT CountryCode, Language\n",
    "    FROM CountryLanguage\n",
    "    WHERE CountryCode IN \n",
    "        (SELECT Code\n",
    "        FROM Country\n",
    "        WHERE Continent = 'Europe');\n",
    "\n",
    "1. The outer SELECT statement uses a subquery to determine which languages are used by a larger percentage of a country's population than Aruba's official language.\n",
    "2. The subquery executes first to find the official language Percentage for ABW, which is 5.3.\n",
    "3. The outer query executes using the value 5.3 returned by the subquery. Three languages have Percentage > 5.3\n",
    "4. The SELECT statement uses the IN operator with a subquery to determine which Languages are used in Europe.\n",
    "5. The subquery first finds all Codes from Europe: ALB and AND.\n",
    "6. The outer query then selects the CountryCode and Language for the CountryCodes ALB and AND.\n",
    "\n"
   ]
  },
  {
   "cell_type": "markdown",
   "metadata": {},
   "source": [
    "The given SQL creates a Song table and inserts some songs. The third query that combines the two existing queries. The first SELECT is the outer query, and the second SELECT is the subquery. The ORDER BY clause should appear after the subquery."
   ]
  },
  {
   "cell_type": "code",
   "execution_count": 1,
   "metadata": {},
   "outputs": [],
   "source": [
    "%load_ext sql"
   ]
  },
  {
   "cell_type": "code",
   "execution_count": 3,
   "metadata": {
    "vscode": {
     "languageId": "sql"
    }
   },
   "outputs": [
    {
     "name": "stdout",
     "output_type": "stream",
     "text": [
      "Done.\n",
      "9 rows affected.\n",
      "Done.\n",
      "Done.\n"
     ]
    },
    {
     "data": {
      "text/html": [
       "<table>\n",
       "    <thead>\n",
       "        <tr>\n",
       "            <th>ID</th>\n",
       "            <th>Title</th>\n",
       "            <th>Artist</th>\n",
       "            <th>ReleaseYear</th>\n",
       "            <th>Genre</th>\n",
       "        </tr>\n",
       "    </thead>\n",
       "    <tbody>\n",
       "        <tr>\n",
       "            <td>600</td>\n",
       "            <td>That&#x27;s The Way Love Goes</td>\n",
       "            <td>Janet Jackson</td>\n",
       "            <td>1993</td>\n",
       "            <td>R&amp;B</td>\n",
       "        </tr>\n",
       "        <tr>\n",
       "            <td>900</td>\n",
       "            <td>Black Hole Sun</td>\n",
       "            <td>Soundgarden</td>\n",
       "            <td>1994</td>\n",
       "            <td>grunge</td>\n",
       "        </tr>\n",
       "        <tr>\n",
       "            <td>300</td>\n",
       "            <td>You&#x27;re Still the One</td>\n",
       "            <td>Shania Twain</td>\n",
       "            <td>1998</td>\n",
       "            <td>country pop</td>\n",
       "        </tr>\n",
       "        <tr>\n",
       "            <td>200</td>\n",
       "            <td>You Belong With Me</td>\n",
       "            <td>Taylor Swift</td>\n",
       "            <td>2008</td>\n",
       "            <td>country pop</td>\n",
       "        </tr>\n",
       "        <tr>\n",
       "            <td>400</td>\n",
       "            <td>Need You Now</td>\n",
       "            <td>Lady Antebellum</td>\n",
       "            <td>2011</td>\n",
       "            <td>country pop</td>\n",
       "        </tr>\n",
       "    </tbody>\n",
       "</table>"
      ],
      "text/plain": [
       "[(600, \"That's The Way Love Goes\", 'Janet Jackson', 1993, 'R&B'),\n",
       " (900, 'Black Hole Sun', 'Soundgarden', 1994, 'grunge'),\n",
       " (300, \"You're Still the One\", 'Shania Twain', 1998, 'country pop'),\n",
       " (200, 'You Belong With Me', 'Taylor Swift', 2008, 'country pop'),\n",
       " (400, 'Need You Now', 'Lady Antebellum', 2011, 'country pop')]"
      ]
     },
     "execution_count": 3,
     "metadata": {},
     "output_type": "execute_result"
    }
   ],
   "source": [
    "%%sql sqlite://\n",
    "\n",
    "CREATE TABLE Song (\n",
    "  ID INT,\n",
    "  Title VARCHAR(60),\n",
    "  Artist VARCHAR(60),\n",
    "  ReleaseYear INT,\n",
    "  Genre VARCHAR(20),\n",
    "  PRIMARY KEY (ID)\n",
    ");\n",
    "\n",
    "INSERT INTO Song VALUES\n",
    "  (100, 'Hey Jude', 'Beatles', 1968, 'pop rock'),\n",
    "  (200, 'You Belong With Me', 'Taylor Swift', 2008, 'country pop'), \n",
    "  (300, 'You''re Still the One', 'Shania Twain', 1998, 'country pop'),\n",
    "  (400, 'Need You Now', 'Lady Antebellum', 2011, 'country pop'),\n",
    "  (500, 'You''ve Lost That Lovin'' Feeling', 'The Righteous Brothers', 1964, 'R&B'),\n",
    "  (600, 'That''s The Way Love Goes', 'Janet Jackson', 1993, 'R&B'),\n",
    "  (700, 'Smells Like Teen Spirit', 'Nirvana', 1991, 'grunge'),\n",
    "  (800, 'Even Flow', 'Pearl Jam', 1992, 'grunge'),\n",
    "  (900, 'Black Hole Sun', 'Soundgarden', 1994, 'grunge');\n",
    "\n",
    "SELECT *\n",
    "FROM Song\n",
    "WHERE ReleaseYear > 1992\n",
    "ORDER BY ReleaseYear;\n",
    "\n",
    "SELECT *\n",
    "FROM Song\n",
    "WHERE ReleaseYear >\n",
    "  (SELECT ReleaseYear\n",
    "   FROM Song \n",
    "   WHERE ID = 800)\n",
    "ORDER BY ReleaseYear;\n"
   ]
  },
  {
   "cell_type": "markdown",
   "metadata": {},
   "source": [
    "---"
   ]
  },
  {
   "cell_type": "markdown",
   "metadata": {},
   "source": [
    "### **Correlated subqueries**\n",
    "A subquery is **correlated** when the subquery's WHERE clause references a column from the outer query. In a correlated subquery, the rows selected depend on which row is currently being examined by the outer query.\n",
    "\n",
    "If a column name in the correlated subquery is identical to a column name in the outer query, the TableName.ColumnName differentiates the columns. Ex: City.CountryCode refers to the City table's CountryCode column .\n",
    "\n",
    "An **alias** can also help differentiate the columns. An alias is a temporary name assigned to a column or table. The **AS** keyword follows a column or table name to create an alias. Ex: SELECT Name AS N FROM Country AS C creates the alias N for the Name column and alias C for the Country table. The AS keyword is optional and may be omitted. Ex: SELECT Name N FROM Country C.\n",
    "\n",
    "In the example below, the outer SELECT statement uses a correlated subquery to find cities with a population larger than the country's average city population.\n",
    "\n",
    "    --- Selects name, countrycode, and population where the city's          population is greater than the average population for its' country\n",
    "    \n",
    "    SELECT Name, CountryCode, Population\n",
    "    FROM City C \n",
    "    WHERE Population > \n",
    "        (SELECT AVG(Population)\n",
    "        FROM City\n",
    "        WHERE CountryCode = C.CountryCode);\n",
    "\n",
    "1. The outer query and correlated subquery both select from the City table. The outer query uses an alias C for the City table, so C.CountryCode refers to the outer query's CountryCode column.\n",
    "2. The outer query executes first to process rows in the City table. As each City row is processed, the subquery finds the average population for the city's country.\n",
    "3. Then the outer query executes using the average population returned from the subquery. Buenos Aires has a population 2982146 > 2124303.5.\n",
    "4. The outer query processes the next row, and the average population for ARG is calculated again. La Matanza is not selected because La Matanza's population is not > 2124303.5.\n",
    "5. he outer query finds São Paulo also has a population > BRA's average population.\n",
    "6. Rio de Janeiro is not selected because Rio de Janeiro's population 5598953 is not > 7783719.\n",
    "\n",
    "---\n",
    "    "
   ]
  },
  {
   "cell_type": "markdown",
   "metadata": {},
   "source": [
    "#### **EXISTS operator**\n",
    "Correlated subqueries commonly use the ***EXISTS*** operator, which returns TRUE if a subquery selects at least one row and FALSE if no rows are selected. The ***NOT EXISTS*** operator returns TRUE if a subquery selects no rows and FALSE if at least one row is selected.\n",
    "\n",
    "    SELECT Name, CountryCode\n",
    "    FROM City C\n",
    "    WHERE EXISTS \n",
    "        (SELECT *\n",
    "        FROM CountryLanguage\n",
    "        WHERE CountryCode = C.CountryCode\n",
    "            AND Percentage > 97);\n",
    "\n",
    "1. The outer query uses EXISTS with a correlated subquery to select only cities in countries where at least one language is spoken by more than 97% of the population.\n",
    "2. The correlated subquery selects no rows for ARG because no Percentage value is > 97. Since no rows are selected, EXISTS returns FALSE and no ARG cities are selected.\n",
    "3. The correlated subquery selects one row for BRA because Portuguese's percentage 97.5 > 97. EXISTS returns TRUE when at least one row is selected, so all BRA cities are selected.\n",
    "4. Rio de Janeiro is also selected because at least one BRA row has Percentage > 97."
   ]
  },
  {
   "cell_type": "markdown",
   "metadata": {},
   "source": [
    "The given SQL creates Album and Song tables and inserts albums and songs. Each song is associated with an album.\n",
    "\n",
    "1. The SELECT statement selects all albums with three or more songs. Run the query and verify the result table shows just the albums Saturday Night Fever and 21.\n",
    "\n",
    "2. The GROUP BY clause selects albums with three or more songs by the same artist. The result table shows just the album 21.\n",
    "\n"
   ]
  },
  {
   "cell_type": "code",
   "execution_count": 8,
   "metadata": {
    "vscode": {
     "languageId": "sql"
    }
   },
   "outputs": [
    {
     "name": "stdout",
     "output_type": "stream",
     "text": [
      "Done.\n",
      "4 rows affected.\n",
      "Done.\n",
      "10 rows affected.\n",
      "Done.\n"
     ]
    },
    {
     "data": {
      "text/html": [
       "<table>\n",
       "    <thead>\n",
       "        <tr>\n",
       "            <th>ID</th>\n",
       "            <th>Title</th>\n",
       "            <th>ReleaseYear</th>\n",
       "        </tr>\n",
       "    </thead>\n",
       "    <tbody>\n",
       "        <tr>\n",
       "            <td>4</td>\n",
       "            <td>21</td>\n",
       "            <td>2011</td>\n",
       "        </tr>\n",
       "    </tbody>\n",
       "</table>"
      ],
      "text/plain": [
       "[(4, '21', 2011)]"
      ]
     },
     "execution_count": 8,
     "metadata": {},
     "output_type": "execute_result"
    }
   ],
   "source": [
    "%%sql sqlite://\n",
    "\n",
    "CREATE TABLE MyAlbums (\n",
    "  ID INT,\n",
    "  Title VARCHAR(60),\n",
    "  ReleaseYear INT,\n",
    "  PRIMARY KEY (ID)\n",
    ");\n",
    "\n",
    "INSERT INTO MyAlbums VALUES\n",
    "  (1, 'Saturday Night Fever', 1977),\n",
    "  (2, 'Born in the U.S.A.', 1984),\n",
    "  (3, 'Supernatural', 1999),\n",
    "  (4, '21', 2011);\n",
    "\n",
    "CREATE TABLE Musicas (\n",
    "  ID INT,\n",
    "  Title VARCHAR(60),\n",
    "  Artist VARCHAR(60),\n",
    "  AlbumID INT,\n",
    "  PRIMARY KEY (ID),\n",
    "  FOREIGN KEY (AlbumID) REFERENCES Album(ID)\n",
    ");\n",
    "\n",
    "INSERT INTO Musicas VALUES\n",
    "  (100, 'Stayin'' Alive', 'Bee Gees', 1),\n",
    "  (101, 'More Than a Woman', 'Bee Gees', 1),\n",
    "  (102, 'If I Can''t Have You', 'Yvonne Elliman', 1),\n",
    "  (200, 'Dancing in the Dark', 'Bruce Springsteen', 2),\n",
    "  (201, 'Glory Days', 'Bruce Springsteen', 2),\n",
    "  (300, 'Smooth', 'Santana', 3),\n",
    "  (400, 'Rolling in the Deep', 'Adele', 4),\n",
    "  (401, 'Someone Like You', 'Adele', 4),\n",
    "  (402, 'Set Fire to the Rain', 'Adele', 4),\n",
    "  (403, 'Rumor Has It', 'Adele', 4);\n",
    "\n",
    "SELECT *\n",
    "FROM MyAlbums\n",
    "WHERE EXISTS \n",
    "  (SELECT COUNT(*)\n",
    "   FROM Musicas\n",
    "   WHERE AlbumID = MyAlbums.ID\n",
    "   GROUP BY Artist\n",
    "   HAVING COUNT(*) >= 3);"
   ]
  },
  {
   "cell_type": "markdown",
   "metadata": {},
   "source": [
    "---"
   ]
  },
  {
   "cell_type": "markdown",
   "metadata": {},
   "source": [
    "#### **Flattening subqueries**\n",
    "\n",
    "Many subqueries can be rewritten as a join. Most databases optimize a subquery and outer query separately, whereas joins are optimized in one pass. So joins are usually faster and preferred when performance is a concern.\n",
    "\n",
    "Replacing a subquery with an equivalent join is called flattening a query. The criteria for ***flattening*** subqueries are complex and depend on the SQL implementation in each database system. Most subqueries that follow IN or EXISTS, or return a single value, can be flattened. Most subqueries that follow NOT EXISTS or contain a GROUP BY clause cannot be flattened.\n",
    "\n",
    "The following steps are a first pass at flattening a query:\n",
    "\n",
    "1. Retain the outer query SELECT, FROM, GROUP BY, HAVING, and ORDER BY clauses.\n",
    "\n",
    "2. Add INNER JOIN clauses for each subquery table,\n",
    "\n",
    "3. Move comparisons between subquery and outer query columns to ON clauses.\n",
    "\n",
    "4. Add a WHERE clause with the remaining expressions in the subquery and outer query WHERE clauses.\n",
    "\n",
    "5. If necessary, remove duplicate rows with SELECT DISTINCT.\n",
    "\n",
    "After the first pass, test the flattened query and adjust to achieve the correct result. Verify that the original and flattened queries return the same result for a variety of data.\n",
    "\n",
    "    SELECT Name\n",
    "    FROM Country\n",
    "    WHERE Code IN\n",
    "    (SELECT CountryCode\n",
    "        FROM City\n",
    "        WHERE Population > 1000000);\n",
    "\n",
    "    SELECT DISTINCT Name\n",
    "    FROM Country\n",
    "    INNER JOIN City ON Code = CountryCode\n",
    "    WHERE Population > 1000000;\n",
    "\n",
    "\n",
    "1. The subquery selects country codes for cities with population > 1000000.\n",
    "2. The outer query selects the country names.\n",
    "3. To flatten the query, replace the subquery with an INNER JOIN clause.\n",
    "4. The join query selects the one country name for each city with population > 1000000.\n",
    "5. The DISTINCT clause eliminates duplicate rows. The subquery and join query are equivalent.\n",
    "\n",
    "---\n"
   ]
  }
 ],
 "metadata": {
  "kernelspec": {
   "display_name": "myenv",
   "language": "python",
   "name": "python3"
  },
  "language_info": {
   "codemirror_mode": {
    "name": "ipython",
    "version": 3
   },
   "file_extension": ".py",
   "mimetype": "text/x-python",
   "name": "python",
   "nbconvert_exporter": "python",
   "pygments_lexer": "ipython3",
   "version": "3.8.17"
  },
  "orig_nbformat": 4
 },
 "nbformat": 4,
 "nbformat_minor": 2
}
