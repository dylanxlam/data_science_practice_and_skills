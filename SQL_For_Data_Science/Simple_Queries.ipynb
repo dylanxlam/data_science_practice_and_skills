{
 "cells": [
  {
   "cell_type": "markdown",
   "metadata": {},
   "source": [
    "#### **Operators**\n",
    "An **operator** is a symbol that computes a value from one or more other values, called **operands**:\n",
    "\n",
    "Arithmetic operators compute numeric values from numeric operands.\n",
    "\n",
    "Comparison operators compute logical values TRUE or FALSE. Operands may be numeric, character, and other data types.\n",
    "\n",
    "Logical operators compute logical values from logical operands.\n",
    "\n",
    "A **unary** operator has one operand. A **binary** operator has two operands. Most operators are binary. The logical operator NOT is unary. The arithmetic operator - is either unary or binary.\n",
    "\n",
    "Arithmetic and comparison operators return NULL when either operand is NULL. Logical operators with NULL operands are discussed elsewhere in this material.\n",
    "\n",
    "---"
   ]
  },
  {
   "cell_type": "markdown",
   "metadata": {},
   "source": [
    "#### **Expressions**\n",
    "An ***expression*** is a string of operators, operands, and parentheses that evaluates to a single value. Operands may be column names or fixed values. The value of an expression may be any data type. Ex: Salary > 34000 AND Department = 'Marketing' is an expression with a logical value.\n",
    "\n",
    "A simple expression may consist of a single column name or a fixed value. Ex: The column EmployeeName and the fixed value 'Maria' are expressions with a character data type.\n",
    "\n",
    "When an expression is evaluated, column names are replaced with column values for a specific row. Consequently, an expression containing column names may have different values for different rows.\n",
    "\n",
    "The order of operator evaluation may affect the value of an expression. Operators in an expression are evaluated in the order of ***operator precedence***, shown in the table below. Operators of the same precedence are evaluated from left to right. Regardless of operator precedence, expressions enclosed in parentheses are evaluated before any operators outside the parentheses are applied.\n",
    "\n"
   ]
  },
  {
   "cell_type": "markdown",
   "metadata": {},
   "source": [
    "##### **Operator precedence.**\n",
    "**Precedence\tOperators**\n",
    "\n",
    "1. \t(-) (unary)\n",
    "2.\t^\n",
    "3.\t(*)  /  (%)\n",
    "4.\t(+)  (-) (binary)\n",
    "5.\t=  !=  <  >  <=  >=\n",
    "6.\tNOT\n",
    "7.\tAND\n",
    "8.\tOR\n",
    "\n",
    "---"
   ]
  },
  {
   "cell_type": "markdown",
   "metadata": {},
   "source": [
    "#### **SELECT statement**\n",
    "The SELECT statement selects rows from a table. The statement has a **SELECT** clause and a **FROM** clause. The FROM clause specifies the table from which rows are selected. The SELECT clause specifies one or more expressions, separated by commas, that determine what values are returned for each row.\n",
    "\n",
    "**SELECT with expressions.**\n",
    "\n",
    "    SELECT Expression1, Expression2, ... \n",
    "    FROM TableName;\n",
    "\n",
    "\n",
    "In many queries, each expression in the SELECT clause is a simple column name.\n",
    "\n",
    "**SELECT with columns.**\n",
    "\n",
    "    SELECT Column1, Column2, ... \n",
    "    FROM TableName;\n",
    "\n",
    "\n",
    "To select all columns, the expressions can be replaced with a single asterisk.\n",
    "\n",
    "**SELECT with asterisk.**\n",
    "\n",
    "    SELECT *\n",
    "    FROM TableName;\n",
    "\n",
    "---"
   ]
  },
  {
   "cell_type": "markdown",
   "metadata": {},
   "source": [
    "#### **WHERE clause**\n",
    "An expression may return a value of any data type. A **condition** is an expression that evaluates to a logical value.\n",
    "\n",
    "A SELECT statement has an optional **WHERE** clause that specifies a condition for selecting rows. A row is selected when the condition is TRUE for the row values. A row is omitted when the condition is either FALSE or NULL.\n",
    "\n",
    "The WHERE clause follows the FROM clause. When a SELECT statement has no WHERE clause, all rows are selected.\n",
    "\n",
    "WHERE clause.\n",
    "\n",
    "    SELECT Expression1, Expression2, ...\n",
    "    FROM TableName\n",
    "    WHERE Condition;"
   ]
  },
  {
   "cell_type": "code",
   "execution_count": 2,
   "metadata": {},
   "outputs": [],
   "source": [
    "%load_ext sql"
   ]
  },
  {
   "cell_type": "markdown",
   "metadata": {},
   "source": [
    "The given SQL creates a Movie table and inserts some movies. The SELECT statement selects the title and release date of PG-13 movies that are released after January 1, 2008.\n",
    "\n",
    "Verify the result table shows just the titles and release dates for The Dark Knight and Crazy Rich Asians."
   ]
  },
  {
   "cell_type": "markdown",
   "metadata": {},
   "source": [
    "**Movie (7 rows)**\n",
    "\n",
    "**ID\tTitle\tRating\tReleaseDate**\n",
    "1. \tCasablanca\tPG\t1943-01-23\n",
    "2. \tBridget Jones's Diary\tPG-13\t2001-04-13\n",
    "3. \tThe Dark Knight\tPG-13\t2008-07-18\n",
    "4. \tHidden Figures\tPG\t2017-01-06\n",
    "5. \tToy Story\tG\t1995-11-22\n",
    "6. \tRocky\tPG\t1976-11-21\n",
    "7. \tCrazy Rich Asians\tPG-13\t2018-08-15\n"
   ]
  },
  {
   "cell_type": "code",
   "execution_count": 5,
   "metadata": {
    "vscode": {
     "languageId": "sql"
    }
   },
   "outputs": [
    {
     "name": "stdout",
     "output_type": "stream",
     "text": [
      "Done.\n",
      "7 rows affected.\n",
      "Done.\n"
     ]
    },
    {
     "data": {
      "text/html": [
       "<table>\n",
       "    <thead>\n",
       "        <tr>\n",
       "            <th>Title</th>\n",
       "            <th>ReleaseDate</th>\n",
       "        </tr>\n",
       "    </thead>\n",
       "    <tbody>\n",
       "        <tr>\n",
       "            <td>The Dark Knight</td>\n",
       "            <td>2008-07-18</td>\n",
       "        </tr>\n",
       "        <tr>\n",
       "            <td>Crazy Rich Asians</td>\n",
       "            <td>2018-08-15</td>\n",
       "        </tr>\n",
       "    </tbody>\n",
       "</table>"
      ],
      "text/plain": [
       "[('The Dark Knight', '2008-07-18'), ('Crazy Rich Asians', '2018-08-15')]"
      ]
     },
     "execution_count": 5,
     "metadata": {},
     "output_type": "execute_result"
    }
   ],
   "source": [
    "%%sql sqlite://\n",
    "\n",
    "CREATE TABLE Movie (\n",
    "  ID INT AUTO_INCREMENT,\n",
    "  Title VARCHAR(100),\n",
    "  Rating CHAR(5) CHECK (Rating IN ('G', 'PG', 'PG-13', 'R')),\n",
    "  ReleaseDate DATE,\n",
    "  PRIMARY KEY (ID)\n",
    ");\n",
    "\n",
    "INSERT INTO Movie (Title, Rating, ReleaseDate) VALUES\n",
    "  ('Casablanca', 'PG', '1943-01-23'),\n",
    "  ('Bridget Jones Diary', 'PG-13', '2001-04-13'),\n",
    "  ('The Dark Knight', 'PG-13', '2008-07-18'),\n",
    "  ('Hidden Figures', 'PG', '2017-01-06'),\n",
    "  ('Toy Story', 'G', '1995-11-22'),\n",
    "  ('Rocky', 'PG', '1976-11-21'),\n",
    "  ('Crazy Rich Asians', 'PG-13', '2018-08-15');\n",
    "\n",
    "SELECT Title, ReleaseDate\n",
    "FROM Movie \n",
    "WHERE Rating = 'PG-13' AND ReleaseDate > '2008-01-01';"
   ]
  },
  {
   "cell_type": "markdown",
   "metadata": {},
   "source": [
    "\n",
    "**SQLite** is a lightweight, file-based relational database management system (RDBMS) that is widely used for embedded database applications, testing, prototyping, and small-scale web applications. Unlike client-server databases like MySQL, PostgreSQL, or Oracle, SQLite does not require a separate server process to be running. Instead, it directly accesses and manipulates the database stored in a single disk file.\n",
    "\n",
    "Here are some key features of SQLite:\n",
    "\n",
    "1. **Serverless**: SQLite is serverless, meaning there is no need to set up a separate database server process. The database engine is embedded within the application, and database operations are performed directly on the database file.\n",
    "\n",
    "1. **Self-contained**: SQLite databases are self-contained, stored as a single disk file. This makes SQLite databases easy to distribute and manage.\n",
    "\n",
    "3. **Zero Configuration**: SQLite databases require minimal setup and configuration. You don't need to install or configure a database server or manage user permissions.\n",
    "\n",
    "4. **Transactional**: SQLite supports ACID (Atomicity, Consistency, Isolation, Durability) transactions, ensuring data integrity and reliability.\n",
    "\n",
    "5. **Cross-platform**: SQLite is cross-platform and runs on various operating systems, including Windows, macOS, Linux, and Unix-like systems."
   ]
  }
 ],
 "metadata": {
  "kernelspec": {
   "display_name": "myenv",
   "language": "python",
   "name": "python3"
  },
  "language_info": {
   "codemirror_mode": {
    "name": "ipython",
    "version": 3
   },
   "file_extension": ".py",
   "mimetype": "text/x-python",
   "name": "python",
   "nbconvert_exporter": "python",
   "pygments_lexer": "ipython3",
   "version": "3.8.17"
  },
  "orig_nbformat": 4
 },
 "nbformat": 4,
 "nbformat_minor": 2
}
