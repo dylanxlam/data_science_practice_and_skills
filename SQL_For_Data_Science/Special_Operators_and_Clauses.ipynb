{
 "cells": [
  {
   "cell_type": "markdown",
   "metadata": {},
   "source": [
    "#### **IN operator**\n",
    "The **IN** operator is used in a WHERE clause to determine if a value matches one of several values. The SELECT statement in the figure below uses the IN operator to select only rows where the Language column has a Dutch, Kongo, or Albanian value.\n",
    "\n",
    "    SELECT * \n",
    "    FROM CountryLanguage \n",
    "    WHERE Language IN ('Dutch', 'Kongo', 'Albanian');\n",
    "\n",
    "---"
   ]
  },
  {
   "cell_type": "markdown",
   "metadata": {},
   "source": [
    "#### **LIKE operator**\n",
    "The **LIKE** operator, when used in a WHERE clause, matches text against a pattern using the two wildcard characters % and _.\n",
    "\n",
    "- % matches any number of characters. Ex: LIKE 'L%t' matches \"Lt\", \"Lot\", \"Lift\", and \"Lol cat\".\n",
    "- _ matches exactly one character. Ex: LIKE 'L_t' matches \"Lot\" and \"Lit\" but not \"Lt\" and \"Loot\".\n",
    "The LIKE operator performs case-insensitive pattern matching by default or case-sensitive pattern matching if followed by the BINARY keyword. Ex: LIKE **BINARY** 'L%t' matches 'Left' but not 'left'.\n",
    "\n",
    "To search for the wildcard characters % or _, a backslash (\\) must precede % or _. Ex: LIKE 'a\\%' matches \"a%\".\n",
    "\n",
    "PARTICIPATION ACTIVITY\n",
    "3.3.2: Using the LIKE operator.\n"
   ]
  },
  {
   "cell_type": "markdown",
   "metadata": {},
   "source": [
    "The given SQL creates a Movie table and inserts some movies. \n",
    "\n",
    "The SELECT statement selects movies with the word \"star\" somewhere in the title."
   ]
  },
  {
   "cell_type": "code",
   "execution_count": 1,
   "metadata": {},
   "outputs": [],
   "source": [
    "%load_ext sql"
   ]
  },
  {
   "cell_type": "code",
   "execution_count": 7,
   "metadata": {
    "vscode": {
     "languageId": "sql"
    }
   },
   "outputs": [
    {
     "name": "stdout",
     "output_type": "stream",
     "text": [
      "Done.\n",
      "5 rows affected.\n",
      "Done.\n"
     ]
    },
    {
     "data": {
      "text/html": [
       "<table>\n",
       "    <thead>\n",
       "        <tr>\n",
       "            <th>Title</th>\n",
       "        </tr>\n",
       "    </thead>\n",
       "    <tbody>\n",
       "        <tr>\n",
       "            <td>Rogue One: A Star Wars Story</td>\n",
       "        </tr>\n",
       "        <tr>\n",
       "            <td>Star Trek</td>\n",
       "        </tr>\n",
       "        <tr>\n",
       "            <td>Stargate</td>\n",
       "        </tr>\n",
       "    </tbody>\n",
       "</table>"
      ],
      "text/plain": [
       "[('Rogue One: A Star Wars Story',), ('Star Trek',), ('Stargate',)]"
      ]
     },
     "execution_count": 7,
     "metadata": {},
     "output_type": "execute_result"
    }
   ],
   "source": [
    "%%sql sqlite://\n",
    "\n",
    "CREATE TABLE Movies (\n",
    "  ID INT AUTO_INCREMENT,\n",
    "  Title VARCHAR(100),\n",
    "  Rating CHAR(5) CHECK (Rating IN ('G', 'PG', 'PG-13', 'R')),\n",
    "  ReleaseDate DATE,\n",
    "  PRIMARY KEY (ID)\n",
    ");\n",
    "\n",
    "INSERT INTO Movies (Title, Rating, ReleaseDate) VALUES\n",
    "  ('Rogue One: A Star Wars Story', 'PG-13', '2016-12-16'),\n",
    "  ('Star Trek', 'PG-13', '2009-05-08'),\n",
    "  ('The Dark Knight', 'PG-13', '2008-07-18'),\n",
    "  ('Stargate', 'PG-13', '1994-10-28'),\n",
    "  ('Avengers: Endgame', 'PG-13', '2019-04-26');\n",
    "\n",
    "-- Modify the SELECT statement:\n",
    "SELECT Title\n",
    "FROM Movies\n",
    "WHERE Title LIKE '%star%';\n"
   ]
  },
  {
   "cell_type": "markdown",
   "metadata": {},
   "source": [
    "---"
   ]
  },
  {
   "cell_type": "markdown",
   "metadata": {},
   "source": [
    "#### **DISTINCT clause**\n",
    "The ***DISTINCT*** clause is used with a SELECT statement to return only unique values. Ex: The first SELECT statement in the figure below results in two 'Spanish' rows, but the second SELECT statement returns only unique languages, resulting in only one 'Spanish' row."
   ]
  },
  {
   "cell_type": "markdown",
   "metadata": {},
   "source": [
    "    SELECT Language\n",
    "    FROM CountryLanguage\n",
    "    WHERE IsOfficial = 'F';\n",
    " \n",
    "Spanish\n",
    "\n",
    "Balochi\n",
    "\n",
    "Spanish\n",
    "\n",
    "    SELECT DISTINCT Language\n",
    "    FROM CountryLanguage\n",
    "    WHERE IsOfficial = 'F';\n",
    " \n",
    "Spanish\n",
    "\n",
    "Balochi\n",
    "\n",
    "---"
   ]
  },
  {
   "cell_type": "markdown",
   "metadata": {},
   "source": [
    "#### **ORDER BY clause**\n",
    "A SELECT statement selects rows from a table with no guarantee the data will come back in a certain order. The ***ORDER BY*** clause orders selected rows by one or more columns in ascending (alphabetic or increasing) order. The ***DESC*** keyword with the ORDER BY clause orders rows in descending order.\n",
    "\n",
    "    -- Order by Language (ascending)\n",
    "    SELECT * \n",
    "    FROM CountryLanguage \n",
    "    ORDER BY Language;\n",
    " \n",
    "GAB   Fang   F   35.8   \n",
    "\n",
    "GAB   Mbete  F   13.8  \n",
    "\n",
    "FSM   Woleai  F    3.7  \n",
    "\n",
    "FSM   Yap    F    5.8\n",
    "\n",
    "    -- Order by Language (descending)\n",
    "    SELECT * \n",
    "    FROM CountryLanguage \n",
    "    ORDER BY Language DESC;\n",
    " \n",
    "FSM   Yap    F    5.8\n",
    "\n",
    "FSM   Woleai  F    3.7\n",
    "\n",
    "GAB   Mbete  F   13.8 \n",
    "\n",
    "GAB   Fang   F   35.8\n",
    "\n",
    "    -- Order by CountryCode, then Language\n",
    "    SELECT * \n",
    "    FROM CountryLanguage \n",
    "    ORDER BY CountryCode, Language;\n",
    " \n",
    "FSM   Woleai  F    3.7\n",
    "\n",
    "FSM   Yap    F    5.8\n",
    "\n",
    "GAB   Fang   F    35.8\n",
    "\n",
    "GAB   Mbete  F    13.8\n",
    "\n",
    "---"
   ]
  },
  {
   "cell_type": "markdown",
   "metadata": {},
   "source": [
    "#### **Limiting clauses**\n",
    "Queries against very large tables might return thousands or millions of rows. Databases support special clauses that limit the number of rows returned by a query. The syntax of limiting clauses is not standardized.\n",
    "\n",
    "MySQL supports a ***LIMIT*** clause, consisting of the LIMIT keyword and number of rows. The LIMIT clause appears at the end of the SELECT statement.\n",
    "\n",
    "**MySQL example**\n",
    "\n",
    "    SELECT *\n",
    "    FROM CountryLanguage\n",
    "    LIMIT 20;\n",
    "\n",
    "SQL Server supports a ***TOP*** clause, consisting of the TOP keyword and number of rows. The TOP clause follows the SELECT keyword.\n",
    "\n",
    "**SQL Server example**    \n",
    "\n",
    "    SELECT TOP 20 *\n",
    "    FROM CountryLanguage;\n",
    "\n",
    "Oracle Database supports a ***FETCH*** clause, with syntax FETCH FIRST number ROWS ONLY. The FETCH clause appears at the end of the SELECT statement.\n",
    "\n",
    "**Oracle Database example**\n",
    "\n",
    "    SELECT *\n",
    "    FROM CountryLanguage\n",
    "    FETCH FIRST 20 ROWS ONLY;\n",
    "\n",
    "When a limit clause is used without an ORDER BY clause, the rows that appear are unpredictable. When a limit clause is used with ORDER BY, the rows that appear are based on row order and predictable. For this reason, LIMIT, TOP, and FETCH clauses are usually used with an ORDER BY clause."
   ]
  }
 ],
 "metadata": {
  "kernelspec": {
   "display_name": "myenv",
   "language": "python",
   "name": "python3"
  },
  "language_info": {
   "codemirror_mode": {
    "name": "ipython",
    "version": 3
   },
   "file_extension": ".py",
   "mimetype": "text/x-python",
   "name": "python",
   "nbconvert_exporter": "python",
   "pygments_lexer": "ipython3",
   "version": "3.8.17"
  },
  "orig_nbformat": 4
 },
 "nbformat": 4,
 "nbformat_minor": 2
}
