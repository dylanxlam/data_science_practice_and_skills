{
 "cells": [
  {
   "cell_type": "markdown",
   "metadata": {},
   "source": [
    "### **Relational databases**\n",
    "Many tasks in data science involve extracting and manipulating data from a database. Although files and spreadsheets are commonly used when working with small and static data sets, large data sets are handled by multiple users from different geographic regions, which presents many challenges. Complex data sets are usually managed in database systems, for several reasons:\n",
    "\n",
    "***Performance*** - Databases optimize data organization on storage media for fast query processing.\n",
    "\n",
    "***Security*** - Databases prevent unauthorized data access and encrypt data in case of a security breach.\n",
    "\n",
    "***Concurrency*** - Databases manage conflicts that occur when concurrent users update the same data.\n",
    "\n",
    "***Recovery*** - Databases restore the database to a consistent state after system failures.\n",
    "\n",
    "Most leading database systems are relational. A **relational database** organizes data in rows and columns of tables. Tables are related with special columns, called keys, and queried with Structured Query Language (SQL). Ex: The figure below illustrates two tables in a relational database."
   ]
  },
  {
   "cell_type": "markdown",
   "metadata": {},
   "source": [
    "##### **Relational Database Example**\n",
    "\n",
    "**Country**\n",
    "\n",
    "CountryCode\tCountryName\tSurfaceArea\tContinentName\n",
    "\n",
    "JPN\tJapan\t377829\tAsia\n",
    "\n",
    "ITA\tItaly\t301316\tEurope\n",
    "\n",
    "ECU\tEcuador\t283561\tSouth America\n",
    "\n",
    "---\n",
    "\n",
    "**City**\n",
    "\n",
    "CityName\tCountryCode\tPopulation\n",
    "\n",
    "Osaka\tJPN\t2595674\n",
    "\n",
    "Kyoto\tJPN\t1461974\n",
    "\n",
    "Rome\tITA\t2643581\n",
    "\n",
    "Verona\tITA\t255268\n",
    "\n",
    "Naples\tITA\t1002619\n",
    "\n",
    "Quito\tECU\t1573458\n",
    "\n",
    "---"
   ]
  },
  {
   "cell_type": "markdown",
   "metadata": {},
   "source": [
    "**NoSQL**  is a type of database that stores information in a non-tabular format. In particular, the file format of the example below is called JSON, which stores objects in attribute-value pairs and arrays. This example is non-tabular, which cannot be a relational database.\n"
   ]
  },
  {
   "cell_type": "code",
   "execution_count": 3,
   "metadata": {
    "vscode": {
     "languageId": "javascript"
    }
   },
   "outputs": [
    {
     "data": {
      "application/javascript": "\n\n// Define the JSON data\nvar jsonData = {\n    \"Countries\": [\n        {\n            \"CountryCode\": \"JPN\",\n            \"CountryName\": \"Japan\",\n            \"SurfaceArea\": 377829,\n            \"ContinentName\": \"Asia\",\n            \"Cities\": [\n                {\"CityName\": \"Osaka\", \"Population\": 2595674 },\n                {\"CityName\": \"Kyoto\", \"Population\": 1461974 }\n            ]\n        },\n        {\n            \"CountryCode\": \"ITA\",\n            \"CountryName\": \"Italy\",\n            \"SurfaceArea\": 301316,\n            \"ContinentName\": \"Europe\",\n            \"Cities\": [\n                {\"CityName\": \"Rome\", \"Population\": 2643581 },\n                {\"CityName\": \"Verona\", \"Population\": 255268 },\n                {\"CityName\": \"Naples\", \"Population\": 1002619 }\n            ]\n        },\n        {\n            \"CountryCode\": \"ECU\",\n            \"CountryName\": \"Ecuador\",\n            \"SurfaceArea\": 283561,\n            \"ContinentName\": \"South America\",\n            \"Cities\": [\n                {\"CityName\": \"Quito\", \"Population\": 1573458 }\n            ]\n        }\n    ]\n};\n\n// Access and manipulate JSON data\nconsole.log(jsonData.Countries[0].CountryName); // Output: Japan\nconsole.log(jsonData.Countries[1].Cities[0].CityName); // Output: Rome\n",
      "text/plain": [
       "<IPython.core.display.Javascript object>"
      ]
     },
     "metadata": {},
     "output_type": "display_data"
    }
   ],
   "source": [
    "%%javascript\n",
    "\n",
    "\n",
    "// Define the JSON data\n",
    "var jsonData = {\n",
    "    \"Countries\": [\n",
    "        {\n",
    "            \"CountryCode\": \"JPN\",\n",
    "            \"CountryName\": \"Japan\",\n",
    "            \"SurfaceArea\": 377829,\n",
    "            \"ContinentName\": \"Asia\",\n",
    "            \"Cities\": [\n",
    "                {\"CityName\": \"Osaka\", \"Population\": 2595674 },\n",
    "                {\"CityName\": \"Kyoto\", \"Population\": 1461974 }\n",
    "            ]\n",
    "        },\n",
    "        {\n",
    "            \"CountryCode\": \"ITA\",\n",
    "            \"CountryName\": \"Italy\",\n",
    "            \"SurfaceArea\": 301316,\n",
    "            \"ContinentName\": \"Europe\",\n",
    "            \"Cities\": [\n",
    "                {\"CityName\": \"Rome\", \"Population\": 2643581 },\n",
    "                {\"CityName\": \"Verona\", \"Population\": 255268 },\n",
    "                {\"CityName\": \"Naples\", \"Population\": 1002619 }\n",
    "            ]\n",
    "        },\n",
    "        {\n",
    "            \"CountryCode\": \"ECU\",\n",
    "            \"CountryName\": \"Ecuador\",\n",
    "            \"SurfaceArea\": 283561,\n",
    "            \"ContinentName\": \"South America\",\n",
    "            \"Cities\": [\n",
    "                {\"CityName\": \"Quito\", \"Population\": 1573458 }\n",
    "            ]\n",
    "        }\n",
    "    ]\n",
    "};\n",
    "\n",
    "// Access and manipulate JSON data\n",
    "console.log(jsonData.Countries[0].CountryName); // Output: Japan\n",
    "console.log(jsonData.Countries[1].Cities[0].CityName); // Output: Rome\n"
   ]
  },
  {
   "cell_type": "markdown",
   "metadata": {},
   "source": [
    "In the example above, jsonData represents the JSON object. You can access its properties and values using dot notation or square bracket notation. JavaScript provides methods to parse JSON strings into JavaScript objects (JSON.parse()) and convert JavaScript objects into JSON strings (JSON.stringify()), making it easy to work with JSON data in JavaScript applications."
   ]
  },
  {
   "cell_type": "markdown",
   "metadata": {},
   "source": [
    "#### **Keys**\n",
    "A **unique column** never contains duplicate values in different rows. Each value appears in one row only, regardless of inserts and updates to the table.\n",
    "\n",
    "Every table has a primary key. A **primary key** is a column, or group of columns, that identifies individual rows. To ensure that each primary key value corresponds to exactly one row, primary keys must be unique and not NULL.\n",
    "\n",
    "A **foreign key** is a column, or group of columns, that refer to a primary key. Foreign key values must either be NULL or match some value of the referenced primary key. This rule prevents references to non-existent rows. Unlike primary keys, foreign keys are not necessarily unique.\n",
    "\n",
    "The data types of the foreign and primary keys must be the same, but the names may be different. A foreign key is usually in a different table than the referenced primary key, but may be in the same table.\n",
    "\n",
    "In table diagrams, the primary key is marked by a solid circle (●) and appears as the leftmost column of the table . A foreign key is marked by an empty circle (○) and an arrow leading to the referenced primary key."
   ]
  },
  {
   "cell_type": "markdown",
   "metadata": {},
   "source": [
    "**Keys Example:**\n",
    "- Say there's two tables: \"City\" and \"Country\". Their primary keys are \"● CityNumber\" and \"● CountryCode\" respectively. The \"City\" Table has a column of \"○ CountryCode\", which is a foreign key given it refers to the primary key of the \"Country\" table."
   ]
  },
  {
   "cell_type": "markdown",
   "metadata": {},
   "source": [
    "#### **Structured Query Language**\n",
    "**Structured Query Language (SQL)** is a computer language for manipulating and retrieving data. SQL is the standard language for relational databases and is also supported by many non-relational databases. SQL is pronounced either \"S-Q-L \" or \"seekwəl \".\n",
    "\n",
    "SQL consists of language elements:\n",
    "\n",
    "**SELECT CountryName**\n",
    "\n",
    "**FROM COUNTRY**\n",
    "\n",
    "-- WHERE SurfaceArea > 200000 (This is A comment)\n",
    "\n",
    "**WHERE SurfaceArea > 300000;**\n",
    "\n",
    "- A **keyword** is a reserved word with special meaning.\n",
    "    - SELECT, FROM, and WHERE are keywords.\n",
    "    - \n",
    "\n",
    "   \n",
    "- A **literal** is a fixed numeric or text value. Text literals are enclosed in single or double quotes.\n",
    "    - 30000 is a numeric literal.\n",
    "    - \n",
    "\n",
    "\n",
    "- An **identifier** is a user-defined name for a table, column, database, and so on.\n",
    "    - CountryName, Country, and SurfaceArea are identifiers.\n",
    "    - \n",
    "\n",
    "\n",
    "- A **clause** groups a keyword with identifiers and expressions.\n",
    "    - Each clause appears on a separate line.\n",
    "    - \n",
    "\n",
    "\n",
    "- A **statement** is a complete database action, consisting of one or more clauses and ending with a semicolon.\n",
    "    - The three lines end with a semicolon and form a statement.\n",
    "    - \n",
    "\n",
    "\n",
    "In most database systems, keywords and identifiers are not case-sensitive. Ex: SELECT and select are equivalent.\n",
    "\n",
    "SQL ignores white space, such as line breaks. Although a statement can be formatted on one line, each clause usually appears on a separate line for clarity.\n",
    "\n",
    "Some statements create and drop tables and indexes, while others retrieve, insert, update, and delete data. This material emphasizes statements that retrieve data, called **queries**."
   ]
  }
 ],
 "metadata": {
  "kernelspec": {
   "display_name": "myenv",
   "language": "python",
   "name": "python3"
  },
  "language_info": {
   "codemirror_mode": {
    "name": "ipython",
    "version": 3
   },
   "file_extension": ".py",
   "mimetype": "text/x-python",
   "name": "python",
   "nbconvert_exporter": "python",
   "pygments_lexer": "ipython3",
   "version": "3.8.17"
  },
  "orig_nbformat": 4
 },
 "nbformat": 4,
 "nbformat_minor": 2
}
