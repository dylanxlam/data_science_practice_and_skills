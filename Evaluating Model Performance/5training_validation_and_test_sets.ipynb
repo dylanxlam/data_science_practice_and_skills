{
 "cells": [
  {
   "cell_type": "markdown",
   "metadata": {},
   "source": [
    "# **Training, Validation, and Test Sets**"
   ]
  },
  {
   "cell_type": "markdown",
   "metadata": {},
   "source": [
    "#### **Learning Points**\n",
    "\n",
    "- Explain how a machine learning algorithm is trained.\n",
    "- Define training data, validation data, and test data.\n",
    "- Explain how to create training, validation, and test data.\n",
    "- Use scikit-learn to create training, validation, and test data."
   ]
  },
  {
   "cell_type": "markdown",
   "metadata": {},
   "source": [
    "#### **Model training**\n",
    "***Machine learning algorithms*** use data to build a model that makes predictions. Data is made up of instances, which are either labeled or unlabeled. A labeled instance contains information called features and a label for the output feature, while an unlabeled instance does not. Machine learning algorithms use data to build a model that makes predictions. Machine learning algorithms make predictions about output features based on values of input features, or uncover relationships between features.\n",
    "\n",
    "Two types of (supervised) machine learning algorithms exist:\n",
    "\n",
    "- Classification is a machine learning model used to predict categorical values.\n",
    "- Regression is a machine learning model used to predict numerical values.\n",
    "\n",
    "***Model training*** is the process of estimating model parameters used to make a prediction. Ex: When predicting car insurance premiums using incurred losses, the slope and intercept parameters of a linear regression model are estimated during model training."
   ]
  },
  {
   "cell_type": "markdown",
   "metadata": {},
   "source": [
    "#### **The training-validation-test split**\n",
    "Models trained on an entire set of sample data carry the risk of overfitting the sample data, leading to poor performance when predicting beyond the sample. To compensate, sample data is often split into three subsets:\n",
    "\n",
    "- ***Training data*** is used to fit a model.\n",
    "- ***Validation data*** is used to evaluate model performance while adjusting parameter estimates and conducting feature selection.\n",
    "- ***Test data*** is used to evaluate final model performance and compare different models.\n",
    "\n",
    "The data distribution of each of the three subsets should be similar, and most of the data should be part of the training set.\n",
    "\n"
   ]
  },
  {
   "cell_type": "markdown",
   "metadata": {},
   "source": [
    "#### **Example Training-Validation-Test Split**\n",
    "\n",
    "```python\n",
    "# Set the proportions of the training-validation-test split\n",
    "trainingProportion = 0.70\n",
    "validationProportion = 0.10\n",
    "testProportion = 0.20\n",
    "\n",
    "# Split off the test data\n",
    "trainingAndValidationData, testData = train_test_split(\n",
    "    df, test_size=testProportion\n",
    ")\n",
    "\n",
    "# Split the remaining into training and validation data\n",
    "trainingData, validationData = train_test_split(\n",
    "    trainingAndValidationData,\n",
    "    train_size=trainingProportion / (trainingProportion + validationProportion),\n",
    ")\n",
    "```\n"
   ]
  }
 ],
 "metadata": {
  "language_info": {
   "name": "python"
  },
  "orig_nbformat": 4
 },
 "nbformat": 4,
 "nbformat_minor": 2
}
