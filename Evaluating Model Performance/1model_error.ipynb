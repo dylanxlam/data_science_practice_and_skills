{
 "cells": [
  {
   "cell_type": "markdown",
   "metadata": {},
   "source": [
    "# **Model Error**\n"
   ]
  },
  {
   "cell_type": "markdown",
   "metadata": {},
   "source": [
    "#### **Learning Points**\n",
    "- Define underfitting and overfitting.\n",
    "- Explain how underfitting and overfitting impacts a model.\n",
    "- Identify sources of error in a model.\n",
    "- Define the bias-variance tradeoff.\n",
    "- Explain how the bias-variance tradeoff impacts a model."
   ]
  },
  {
   "cell_type": "markdown",
   "metadata": {},
   "source": [
    "#### **Model Specification and Complexity**\n",
    "\n",
    "One of the most important parts of selecting a model is choosing the form/complexity of f. How many features of X should be included?\n",
    "\n",
    "A model is ***underfit*** if the model is too simple to fit the data well. An underfit model will miss the underlying trend and will score poorly in metrics. On the other hand, a model is ***overfit*** if the model is too complex, fitting the data too closely and incorporating too much noise (meaningless variation). An overfit model will also miss the general trend of the data despite scoring well in metrics.\n",
    "\n",
    "A model that is overfit or underfit does not generalize well to unseen data and should not be used. In the field of data science, models tend to be overfit, so model selection techniques focus on choosing the least complex model that captures the general trend."
   ]
  },
  {
   "cell_type": "markdown",
   "metadata": {},
   "source": [
    "#### **Breaking down error**\n",
    "\n",
    "The ***total error*** of a model is how much the observed values differ from predicted values. Total error is broken down into three pieces:\n",
    "\n",
    "- ***Bias*** is how much the model's prediction differs from the observed values due to the assumptions built into the model.\n",
    "- ***Variance*** is a measure of how spread out predictions from the model are.\n",
    "- ***Irreducible error*** is error inherent to the situation modeled.\n",
    "\n",
    "In practice, total error is unknown, but the fit of a model can still be assessed using the sample data. A ***metric*** is a numeric value that evaluates how closely a model fits the sample data. Many metrics are descriptive statistics about a model's errors. Ex: The mean squared error is a metric that estimates the variance of the errors. A more complex model tends to fit the data more closely, leading to smaller errors used to calculate metrics and hence more favorable values of those metrics."
   ]
  },
  {
   "cell_type": "markdown",
   "metadata": {},
   "source": [
    "#### **Bias and Variance**\n",
    "\n",
    "Modeling is like attempting to hit a bullseye on a target with a collection of shots: Bias is how far the shots are from the bullseye on average and variance is how far the shots are from each other on average.\n",
    "\n",
    "- High bias-low variance has shots close together but far from the center. \n",
    "\n",
    "- High bias-high variance has shots spread out and far from the center. \n",
    "\n",
    "- Low bias-low variance has shots close to each other near the center. \n",
    "\n",
    "- High bias-high variance has shots far from the center and spread out.\n"
   ]
  },
  {
   "cell_type": "markdown",
   "metadata": {},
   "source": [
    "#### **Bias-variance tradeoff**\n",
    "Since irreducible error is inherent to whatever situation is modeled, picking a different model can only change the bias and the variance. Choosing a more complex model (more features, a more complicated mathematical expression, etc.) means the model's predictions are closer to the observed sample values, which decreases the bias. However, doing so makes the model's predictions more spread out to meet the observed values, increasing the variance. **An optimal model should be just complex enough to capture the general trend of the data (low bias) without incorporating too much of the noise from the sample (low variance).**\n",
    "\n"
   ]
  }
 ],
 "metadata": {
  "language_info": {
   "name": "python"
  },
  "orig_nbformat": 4
 },
 "nbformat": 4,
 "nbformat_minor": 2
}
