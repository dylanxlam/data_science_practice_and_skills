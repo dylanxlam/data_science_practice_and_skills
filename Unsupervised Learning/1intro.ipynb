{
 "cells": [
  {
   "cell_type": "markdown",
   "metadata": {},
   "source": [
    "# **Introduction to Unsupervised Learning**\n",
    "\n",
    "Learning goals\n",
    "- Define unsupervised learning.\n",
    "- List types of unsupervised learning algorithms.\n",
    "- Identify applications for clustering, outlier detection, and latent variable models."
   ]
  },
  {
   "cell_type": "markdown",
   "metadata": {},
   "source": [
    "#### **Unsupervised learning**\n",
    "***Unsupervised learning*** uses machine learning techniques to identify patterns in data without any prior knowledge about the data. Unsupervised learning methods find insight on data that do not have class labels for an output feature.\n",
    "\n",
    "\n",
    "##### **Types of unsupervised learning algorithms.**\n",
    "\n",
    "A ***clustering algorithm*** groups instances with similar features.\t\n",
    "- Hierarchical clustering, k-means clustering\n",
    "- Determine customer segments from mall customer data\n",
    "\n",
    "An ***outlier detection algorithm*** identifies deviations within data.\n",
    "- DBSCAN, local outlier factor\n",
    "- Spot potentially mispriced properties from real estate listings\n",
    "\n",
    "A ***latent variable model*** relates observable features to a set of latent or unobservable variables.\t\n",
    "- Expectation maximization, principal component analysis\n",
    "- Identify unobservable themes like physical well-being from economic data"
   ]
  },
  {
   "cell_type": "markdown",
   "metadata": {},
   "source": [
    "#### **Clustering application**\n",
    "Clustering techniques group similar data with respect to many features. For instance, businesses often divide customers into segments to market and sell products more effectively in a process called customer segmentation. Typically, segments are identified using demographic and geographic information and spending behavior. Ex: The Gap, Inc. owns Gap, Banana Republic, Old Navy, Athleta, and Intermix, each targeting a different customer segment.\n",
    "\n",
    "For example, using data for 200 mall customers that contains a customer's age, income, and spending score, clusters can be identified."
   ]
  },
  {
   "cell_type": "markdown",
   "metadata": {},
   "source": [
    "#### **Outlier detection application**\n",
    "Techniques that identify clusters based on areas of high density can also be used to detect outliers. Often, solitary points that do not belong to a cluster tend to be outliers or errors. When determining the list price of a house, real estate professionals look at list and sale prices of similar houses in the same postal code. An outlier sale involves a special circumstance with the seller or the neighborhood. Ex: When Tesla announced in 2020 that the company headquarters would be moving to Austin, Texas, homes in nearby neighborhoods sold for much higher prices than the list prices.\n",
    "\n",
    "For example, data from single-family homes, which includes list price and floor size, can be analyzed. Clusters can be identified and four outliers can be detected."
   ]
  },
  {
   "cell_type": "markdown",
   "metadata": {},
   "source": [
    "#### **Latent variables application**\n",
    "One benefit of using latent variable models is the reduction of the number of features by combining similar, highly correlated features into a single latent variable that explains an underlying concept. For example, economists utilize variables that cannot be directly observed. Well-being, for instance, can be indirectly measured using features such as income, education, time spent sleeping, time spent volunteering, time spent on recreation, among others. \n",
    "\n",
    "For example, features are grouped according to more general themes that describe a person's overall well-being."
   ]
  }
 ],
 "metadata": {
  "language_info": {
   "name": "python"
  },
  "orig_nbformat": 4
 },
 "nbformat": 4,
 "nbformat_minor": 2
}
