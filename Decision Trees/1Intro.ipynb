{
 "cells": [
  {
   "cell_type": "markdown",
   "metadata": {},
   "source": [
    "# **Introduction to Decision Trees**\n",
    "\n",
    "#### **Learning Points**\n",
    "- Define decision trees.\n",
    "- Identify components of a decision tree.\n",
    "- Interpret a given classification tree or regression tree."
   ]
  },
  {
   "cell_type": "markdown",
   "metadata": {},
   "source": [
    "A ***decision tree*** is a set of questions that check if a condition is met and flow from one into the other to make a decision. Depending on the answer, further questions are asked to narrow down possible outcomes and arrive at a decision. A decision tree is typically depicted as an upside down tree. The parts of a decision tree are:\n",
    "\n",
    "- ***Decision node:*** where a feature of the data is tested.\n",
    "- ***Root node:*** the first decision node in the tree.\n",
    "- ***Branch:*** a connection between decision nodes in the tree.\n",
    "- ***Layer:*** all of the decision nodes that are the same distance from the root node.\n",
    "- ***Leaf node:*** a node that does not test a feature and so is where a decision is made.\n",
    "- ***Depth:*** the number of layers in a decision tree.\n",
    "\n",
    "A ***binary decision tree*** is a decision tree in which each node has two branches."
   ]
  },
  {
   "cell_type": "markdown",
   "metadata": {},
   "source": [
    "#### **Classification trees**\n",
    "A ***classification tree*** is a decision tree used for classifying an object or event into a categorical feature. Classification is the most common use of decision trees. For classification trees, the leaves represent the class of a new instance. Ex: A bank classifies transactions into \"fraudulent\" or \"non fraudulent\"; a mobile advertiser decides whether to send a phone user an advertisement."
   ]
  },
  {
   "cell_type": "markdown",
   "metadata": {},
   "source": [
    "#### **Regression trees**\n",
    "A ***regression tree*** is a decision tree used to estimate or predict the value of a numerical feature. For regression trees, the leaves represent the output feature's predicted value for each new instance. Ex: The price of a house may be predicted based on square footage, the number of bedrooms and bathrooms, or parking spaces."
   ]
  }
 ],
 "metadata": {
  "language_info": {
   "name": "python"
  },
  "orig_nbformat": 4
 },
 "nbformat": 4,
 "nbformat_minor": 2
}
