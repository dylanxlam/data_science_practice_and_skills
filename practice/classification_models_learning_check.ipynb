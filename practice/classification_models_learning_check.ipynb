{
 "cells": [
  {
   "cell_type": "code",
   "execution_count": 15,
   "metadata": {},
   "outputs": [
    {
     "name": "stdout",
     "output_type": "stream",
     "text": [
      "Q3 Train:\n",
      "    Feature1  Feature2  Label\n",
      "0  1.688537 -0.250010      1\n",
      "1  0.569210  0.107141      1\n",
      "2 -0.640956  0.884289      0\n",
      "3  0.233581 -0.036524      1\n",
      "4 -0.581355  0.867544      0\n",
      "\n",
      "Q3 Test:\n",
      "    Feature1  Feature2  Label\n",
      "0  0.611570 -0.354301      1\n",
      "1 -0.439029  0.943151      0\n",
      "2  1.925731  0.020037      1\n",
      "3  1.228900 -0.565649      1\n",
      "4  1.399918 -0.234772      1\n"
     ]
    }
   ],
   "source": [
    "import pandas as pd\n",
    "from zipfile import ZipFile\n",
    "\n",
    "# Specify the zip file path\n",
    "zip_file_path = \"/Users/dylanlam/Documents/GitHub/data_science_practice_and_skills/datasets/Q3-Dataset-Train-Test.zip\"\n",
    "\n",
    "# Open the zip file\n",
    "with ZipFile(zip_file_path, 'r') as zip_ref:\n",
    "  # Get a list of file names within the zip\n",
    "  file_names = zip_ref.namelist()\n",
    "\n",
    "\n",
    "  # Read the specific CSV file from the zip\n",
    "  with zip_ref.open(\"q3-train.csv\") as csv_file:\n",
    "    q3_train = pd.read_csv(csv_file)  # No compression argument needed here\n",
    "\n",
    "  # Read the specific CSV file from the zip\n",
    "  with zip_ref.open(\"q3-test.csv\") as csv_file:\n",
    "    q3_test = pd.read_csv(csv_file)  # No compression argument needed here\n",
    "\n",
    "\n",
    "# Process the DataFrame (e.g., print data)\n",
    "print(\"Q3 Train:\\n\", q3_train.head())\n",
    "print(\"\\nQ3 Test:\\n\", q3_test.head())\n"
   ]
  },
  {
   "cell_type": "markdown",
   "metadata": {},
   "source": [
    "### **Logistic Regression**"
   ]
  },
  {
   "cell_type": "code",
   "execution_count": 16,
   "metadata": {},
   "outputs": [
    {
     "data": {
      "text/plain": [
       "0.855"
      ]
     },
     "execution_count": 16,
     "metadata": {},
     "output_type": "execute_result"
    }
   ],
   "source": [
    "from sklearn.linear_model import LogisticRegression\n",
    "from sklearn.metrics import accuracy_score\n",
    "\n",
    "X_train = q3_train[[\"Feature1\", \"Feature2\"]]\n",
    "y_train = q3_train[\"Label\"]\n",
    "X_test = q3_test[[\"Feature1\", \"Feature2\"]]\n",
    "y_test = q3_test[\"Label\"]\n",
    "\n",
    "LRmodel = LogisticRegression()\n",
    "LRmodel.fit(X_train, y_train)\n",
    "\n",
    "LR_pred = LRmodel.predict(X_test)\n",
    "accuracy_score(y_test, LR_pred)"
   ]
  },
  {
   "cell_type": "markdown",
   "metadata": {},
   "source": [
    "### **Support Vector Machine**"
   ]
  },
  {
   "cell_type": "code",
   "execution_count": 17,
   "metadata": {},
   "outputs": [],
   "source": [
    "from sklearn.preprocessing import StandardScaler\n",
    "from sklearn import svm\n",
    "\n",
    "\n",
    "scaler = StandardScaler()\n",
    "X_train_scaled = scaler.fit_transform(X_train)\n",
    "X_test_scaled = scaler.transform(X_test)"
   ]
  },
  {
   "cell_type": "code",
   "execution_count": 24,
   "metadata": {},
   "outputs": [
    {
     "data": {
      "text/plain": [
       "0.84"
      ]
     },
     "execution_count": 24,
     "metadata": {},
     "output_type": "execute_result"
    }
   ],
   "source": [
    "# Define and fit the model.\n",
    "# Adjust C from 0.01 to 100 by changing the number of decimal places or zeros.\n",
    "# C controls the slope of the hinge function. Larger values make misclassification less frequent.\n",
    "\n",
    "SVMlinear = svm.SVC(kernel='linear', C=0.01)\n",
    "SVMlinear.fit(X_train_scaled, y_train)\n",
    "\n",
    "# Predict for the test set\n",
    "linear_pred = SVMlinear.predict(X_test_scaled)\n",
    "\n",
    "accuracy_score(y_test, linear_pred)"
   ]
  },
  {
   "cell_type": "code",
   "execution_count": 33,
   "metadata": {},
   "outputs": [
    {
     "data": {
      "text/plain": [
       "0.99"
      ]
     },
     "execution_count": 33,
     "metadata": {},
     "output_type": "execute_result"
    }
   ],
   "source": [
    "SVMrbf = svm.SVC(kernel='rbf', C=100)\n",
    "SVMrbf.fit(X_train_scaled, y_train)\n",
    "\n",
    "# Predict for the test set\n",
    "rbf_pred = SVMrbf.predict(X_test_scaled)\n",
    "\n",
    "accuracy_score(y_test, rbf_pred)"
   ]
  },
  {
   "cell_type": "markdown",
   "metadata": {},
   "source": [
    "### **k-nearest neighbors**"
   ]
  },
  {
   "cell_type": "code",
   "execution_count": 48,
   "metadata": {},
   "outputs": [
    {
     "data": {
      "text/plain": [
       "0.985"
      ]
     },
     "execution_count": 48,
     "metadata": {},
     "output_type": "execute_result"
    }
   ],
   "source": [
    "from sklearn.neighbors import KNeighborsClassifier\n",
    "KnnClassifier = KNeighborsClassifier(n_neighbors=3)\n",
    "KnnClassifier.fit(X_train_scaled,y_train)\n",
    "Knn_pred = KnnClassifier.predict(scaler.transform(X_test))\n",
    "accuracy_score(y_test, Knn_pred)"
   ]
  },
  {
   "cell_type": "markdown",
   "metadata": {},
   "source": [
    "### **Classification Tree**"
   ]
  },
  {
   "cell_type": "code",
   "execution_count": 62,
   "metadata": {},
   "outputs": [
    {
     "data": {
      "text/plain": [
       "0.97"
      ]
     },
     "execution_count": 62,
     "metadata": {},
     "output_type": "execute_result"
    }
   ],
   "source": [
    "from sklearn.tree import DecisionTreeClassifier\n",
    "classtreeModel = DecisionTreeClassifier(max_depth=9)\n",
    "classtreeModel = classtreeModel.fit(X_train, y_train)\n",
    "CT_pred = classtreeModel.predict(X_test)\n",
    "accuracy_score(y_test, CT_pred)"
   ]
  },
  {
   "cell_type": "markdown",
   "metadata": {},
   "source": [
    "### **AdaBoost Classifier**"
   ]
  },
  {
   "cell_type": "code",
   "execution_count": 67,
   "metadata": {},
   "outputs": [
    {
     "data": {
      "text/plain": [
       "0.99"
      ]
     },
     "execution_count": 67,
     "metadata": {},
     "output_type": "execute_result"
    }
   ],
   "source": [
    "from sklearn.ensemble import AdaBoostClassifier\n",
    "AdaBoostmodel = AdaBoostClassifier()\n",
    "AdaBoostmodel.fit(X_train, y_train)\n",
    "Ada_pred = AdaBoostmodel.predict(X_test)\n",
    "accuracy_score(y_test, Ada_pred)"
   ]
  }
 ],
 "metadata": {
  "kernelspec": {
   "display_name": "myenv",
   "language": "python",
   "name": "python3"
  },
  "language_info": {
   "codemirror_mode": {
    "name": "ipython",
    "version": 3
   },
   "file_extension": ".py",
   "mimetype": "text/x-python",
   "name": "python",
   "nbconvert_exporter": "python",
   "pygments_lexer": "ipython3",
   "version": "3.8.17"
  },
  "orig_nbformat": 4
 },
 "nbformat": 4,
 "nbformat_minor": 2
}
