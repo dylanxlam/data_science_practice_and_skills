{
 "cells": [
  {
   "cell_type": "markdown",
   "metadata": {},
   "source": [
    "# Homework 3\n",
    "\n",
    "## Name:  Dylan Lam\n",
    "## EID: DXL85\n",
    "## Normal and t distributions\n",
    "## t-test\n"
   ]
  },
  {
   "cell_type": "markdown",
   "metadata": {},
   "source": [
    "An experiment was conducted to determine the effect of children participating in a given meal preparation on calorie intake for that meal. Data are recorded below. \n",
    "\n",
    "Save the data to a format that can be read into python. Read the data in for analysis. Data is provided in two separted CSV files. \n",
    "\n",
    "* Use python to calculate the quantities and generate the visual summaries requested below. You will lose points if you are not utilizing python.\n",
    "\n",
    "* You can use scipy libary or other libraries to do your tests or you can implement them from scratch in python \n",
    "\n"
   ]
  },
  {
   "cell_type": "code",
   "execution_count": 2,
   "metadata": {},
   "outputs": [],
   "source": [
    "# Standard Headers\n",
    "# You are welcome to add additional headers here if you wish\n",
    "import pandas as pd\n",
    "import numpy as np\n",
    "import matplotlib.pyplot as plt\n",
    "import scipy as sp\n",
    "import seaborn as sns\n",
    "\n",
    "# Enable inline mode for matplotlib so that Jupyter displays graphs\n",
    "%matplotlib inline"
   ]
  },
  {
   "cell_type": "code",
   "execution_count": 3,
   "metadata": {},
   "outputs": [],
   "source": [
    "nonparticipants = pd.read_csv(\"/Users/dylanlam/Documents/GitHub/data_science_practice_and_skills/datasets/nonparticipants.csv\")\n",
    "participants = pd.read_csv(\"/Users/dylanlam/Documents/GitHub/data_science_practice_and_skills/datasets/participants.csv\")"
   ]
  },
  {
   "cell_type": "code",
   "execution_count": 4,
   "metadata": {},
   "outputs": [
    {
     "data": {
      "text/html": [
       "<div>\n",
       "<style scoped>\n",
       "    .dataframe tbody tr th:only-of-type {\n",
       "        vertical-align: middle;\n",
       "    }\n",
       "\n",
       "    .dataframe tbody tr th {\n",
       "        vertical-align: top;\n",
       "    }\n",
       "\n",
       "    .dataframe thead th {\n",
       "        text-align: right;\n",
       "    }\n",
       "</style>\n",
       "<table border=\"1\" class=\"dataframe\">\n",
       "  <thead>\n",
       "    <tr style=\"text-align: right;\">\n",
       "      <th></th>\n",
       "      <th>nonparticipants</th>\n",
       "    </tr>\n",
       "  </thead>\n",
       "  <tbody>\n",
       "    <tr>\n",
       "      <th>0</th>\n",
       "      <td>614.61</td>\n",
       "    </tr>\n",
       "    <tr>\n",
       "      <th>1</th>\n",
       "      <td>503.46</td>\n",
       "    </tr>\n",
       "    <tr>\n",
       "      <th>2</th>\n",
       "      <td>425.22</td>\n",
       "    </tr>\n",
       "    <tr>\n",
       "      <th>3</th>\n",
       "      <td>688.77</td>\n",
       "    </tr>\n",
       "    <tr>\n",
       "      <th>4</th>\n",
       "      <td>184.00</td>\n",
       "    </tr>\n",
       "  </tbody>\n",
       "</table>\n",
       "</div>"
      ],
      "text/plain": [
       "   nonparticipants\n",
       "0           614.61\n",
       "1           503.46\n",
       "2           425.22\n",
       "3           688.77\n",
       "4           184.00"
      ]
     },
     "execution_count": 4,
     "metadata": {},
     "output_type": "execute_result"
    }
   ],
   "source": [
    "nonparticipants.head(5)"
   ]
  },
  {
   "cell_type": "code",
   "execution_count": 5,
   "metadata": {},
   "outputs": [
    {
     "data": {
      "text/html": [
       "<div>\n",
       "<style scoped>\n",
       "    .dataframe tbody tr th:only-of-type {\n",
       "        vertical-align: middle;\n",
       "    }\n",
       "\n",
       "    .dataframe tbody tr th {\n",
       "        vertical-align: top;\n",
       "    }\n",
       "\n",
       "    .dataframe thead th {\n",
       "        text-align: right;\n",
       "    }\n",
       "</style>\n",
       "<table border=\"1\" class=\"dataframe\">\n",
       "  <thead>\n",
       "    <tr style=\"text-align: right;\">\n",
       "      <th></th>\n",
       "      <th>participants</th>\n",
       "    </tr>\n",
       "  </thead>\n",
       "  <tbody>\n",
       "    <tr>\n",
       "      <th>0</th>\n",
       "      <td>230.16</td>\n",
       "    </tr>\n",
       "    <tr>\n",
       "      <th>1</th>\n",
       "      <td>210.99</td>\n",
       "    </tr>\n",
       "    <tr>\n",
       "      <th>2</th>\n",
       "      <td>288.73</td>\n",
       "    </tr>\n",
       "    <tr>\n",
       "      <th>3</th>\n",
       "      <td>590.28</td>\n",
       "    </tr>\n",
       "    <tr>\n",
       "      <th>4</th>\n",
       "      <td>582.59</td>\n",
       "    </tr>\n",
       "  </tbody>\n",
       "</table>\n",
       "</div>"
      ],
      "text/plain": [
       "   participants\n",
       "0        230.16\n",
       "1        210.99\n",
       "2        288.73\n",
       "3        590.28\n",
       "4        582.59"
      ]
     },
     "execution_count": 5,
     "metadata": {},
     "output_type": "execute_result"
    }
   ],
   "source": [
    "participants.head(5)"
   ]
  },
  {
   "cell_type": "markdown",
   "metadata": {},
   "source": [
    "# Question - 1\n",
    "Summarize the data by whether children participated in the meal preparation or not. Use an appropriately labelled table to show the results. Also include a graphical presentation that shows the distribution of calories for participants vs. non-participants. Describe the shape of each distribution and comment on the similarity (or lack thereof) between the distributions in each population. **(2 points)**\n",
    "\n",
    "Be aware that there is not one specific way the graph needs to look. Experiment with different types of graphs, and different parameters for the graph type. Your goal is to present the data as readable as possible. "
   ]
  },
  {
   "cell_type": "code",
   "execution_count": 6,
   "metadata": {},
   "outputs": [
    {
     "data": {
      "text/html": [
       "<div>\n",
       "<style scoped>\n",
       "    .dataframe tbody tr th:only-of-type {\n",
       "        vertical-align: middle;\n",
       "    }\n",
       "\n",
       "    .dataframe tbody tr th {\n",
       "        vertical-align: top;\n",
       "    }\n",
       "\n",
       "    .dataframe thead th {\n",
       "        text-align: right;\n",
       "    }\n",
       "</style>\n",
       "<table border=\"1\" class=\"dataframe\">\n",
       "  <thead>\n",
       "    <tr style=\"text-align: right;\">\n",
       "      <th></th>\n",
       "      <th>caloric_intake</th>\n",
       "      <th>participant_status</th>\n",
       "    </tr>\n",
       "  </thead>\n",
       "  <tbody>\n",
       "    <tr>\n",
       "      <th>0</th>\n",
       "      <td>230.16</td>\n",
       "      <td>Participant</td>\n",
       "    </tr>\n",
       "    <tr>\n",
       "      <th>1</th>\n",
       "      <td>210.99</td>\n",
       "      <td>Participant</td>\n",
       "    </tr>\n",
       "    <tr>\n",
       "      <th>2</th>\n",
       "      <td>288.73</td>\n",
       "      <td>Participant</td>\n",
       "    </tr>\n",
       "    <tr>\n",
       "      <th>3</th>\n",
       "      <td>590.28</td>\n",
       "      <td>Participant</td>\n",
       "    </tr>\n",
       "    <tr>\n",
       "      <th>4</th>\n",
       "      <td>582.59</td>\n",
       "      <td>Participant</td>\n",
       "    </tr>\n",
       "  </tbody>\n",
       "</table>\n",
       "</div>"
      ],
      "text/plain": [
       "   caloric_intake participant_status\n",
       "0          230.16        Participant\n",
       "1          210.99        Participant\n",
       "2          288.73        Participant\n",
       "3          590.28        Participant\n",
       "4          582.59        Participant"
      ]
     },
     "execution_count": 6,
     "metadata": {},
     "output_type": "execute_result"
    }
   ],
   "source": [
    "# Add a new column to each DataFrame indicating participant status\n",
    "participants['participant_status'] = 'Participant'\n",
    "nonparticipants['participant_status'] = 'Non-Participant'\n",
    "\n",
    "# Rename the 'participants' and 'nonparticipants' columns to 'caloric intake'\n",
    "participants.rename(columns={'participants': 'caloric_intake'}, inplace=True)\n",
    "nonparticipants.rename(columns={'nonparticipants': 'caloric_intake'}, inplace=True)\n",
    "\n",
    "# Concatenate the DataFrames\n",
    "merged_df = pd.concat([participants, nonparticipants], ignore_index=True)\n",
    "\n",
    "# Print the merged DataFrame\n",
    "merged_df.head(5)"
   ]
  },
  {
   "cell_type": "code",
   "execution_count": 7,
   "metadata": {},
   "outputs": [
    {
     "data": {
      "text/html": [
       "<div>\n",
       "<style scoped>\n",
       "    .dataframe tbody tr th:only-of-type {\n",
       "        vertical-align: middle;\n",
       "    }\n",
       "\n",
       "    .dataframe tbody tr th {\n",
       "        vertical-align: top;\n",
       "    }\n",
       "\n",
       "    .dataframe thead th {\n",
       "        text-align: right;\n",
       "    }\n",
       "</style>\n",
       "<table border=\"1\" class=\"dataframe\">\n",
       "  <thead>\n",
       "    <tr style=\"text-align: right;\">\n",
       "      <th></th>\n",
       "      <th>count</th>\n",
       "      <th>mean</th>\n",
       "      <th>std</th>\n",
       "      <th>min</th>\n",
       "      <th>25%</th>\n",
       "      <th>50%</th>\n",
       "      <th>75%</th>\n",
       "      <th>max</th>\n",
       "    </tr>\n",
       "    <tr>\n",
       "      <th>participant_status</th>\n",
       "      <th></th>\n",
       "      <th></th>\n",
       "      <th></th>\n",
       "      <th></th>\n",
       "      <th></th>\n",
       "      <th></th>\n",
       "      <th></th>\n",
       "      <th></th>\n",
       "    </tr>\n",
       "  </thead>\n",
       "  <tbody>\n",
       "    <tr>\n",
       "      <th>Non-Participant</th>\n",
       "      <td>22.0</td>\n",
       "      <td>374.071818</td>\n",
       "      <td>133.139285</td>\n",
       "      <td>139.69</td>\n",
       "      <td>296.3925</td>\n",
       "      <td>374.74</td>\n",
       "      <td>445.5575</td>\n",
       "      <td>688.77</td>\n",
       "    </tr>\n",
       "    <tr>\n",
       "      <th>Participant</th>\n",
       "      <td>25.0</td>\n",
       "      <td>410.079600</td>\n",
       "      <td>121.513786</td>\n",
       "      <td>210.99</td>\n",
       "      <td>298.3800</td>\n",
       "      <td>424.94</td>\n",
       "      <td>456.3000</td>\n",
       "      <td>635.21</td>\n",
       "    </tr>\n",
       "  </tbody>\n",
       "</table>\n",
       "</div>"
      ],
      "text/plain": [
       "                    count        mean         std     min       25%     50%  \\\n",
       "participant_status                                                            \n",
       "Non-Participant      22.0  374.071818  133.139285  139.69  296.3925  374.74   \n",
       "Participant          25.0  410.079600  121.513786  210.99  298.3800  424.94   \n",
       "\n",
       "                         75%     max  \n",
       "participant_status                    \n",
       "Non-Participant     445.5575  688.77  \n",
       "Participant         456.3000  635.21  "
      ]
     },
     "execution_count": 7,
     "metadata": {},
     "output_type": "execute_result"
    }
   ],
   "source": [
    "merged_df.groupby('participant_status')['caloric_intake'].describe()"
   ]
  },
  {
   "cell_type": "code",
   "execution_count": 8,
   "metadata": {},
   "outputs": [
    {
     "data": {
      "image/png": "[encoded data removed]",
      "text/plain": [
       "<Figure size 800x600 with 1 Axes>"
      ]
     },
     "metadata": {},
     "output_type": "display_data"
    }
   ],
   "source": [
    "# Create box plot using Matplotlib\n",
    "plt.figure(figsize=(8, 6))\n",
    "\n",
    "# Box plot for participants\n",
    "plt.boxplot([participants['caloric_intake'], nonparticipants['caloric_intake']], \n",
    "            labels=['Participant', 'Non-Participant'],\n",
    "            patch_artist=True,  # Fill with color\n",
    "            boxprops=dict(facecolor='skyblue'),  # Box color\n",
    "            medianprops=dict(color='orange'))     # Median line color\n",
    "\n",
    "# Add labels and title\n",
    "plt.xlabel('Participant Status')\n",
    "plt.ylabel('Caloric Intake')\n",
    "plt.title('Distribution of Caloric Intake by Participant Status')\n",
    "\n",
    "# Show plot\n",
    "plt.grid(True)\n",
    "plt.show()"
   ]
  },
  {
   "cell_type": "markdown",
   "metadata": {},
   "source": [
    "- The median caloric intake of meal prep participants is ~425 calories, while the median caloric intake of nonparticipants is ~385.\n",
    "- The non-participants' caloric intake has longer whiskers, indicating greater variablity beyong the IQR. The non-participants exhibit a greater range of calories consumed then the participants.\n",
    "- There seem to be no outliers for the participants, while there is one outlier for non-participants.\n",
    "- The participants' caloric intake is right-skewed because the median is towards the right and the left whisker is shorter than the right one, with more data points concentrated towards the higher caloric intakes. The non-participants' caloric intake is symmetric around the median suggesting that the data is evenly distributed around the median without a strong skew towards higher or lower caloric intakes."
   ]
  },
  {
   "cell_type": "code",
   "execution_count": 9,
   "metadata": {},
   "outputs": [
    {
     "data": {
      "image/png": "[encoded data removed]",
      "text/plain": [
       "<Figure size 800x600 with 1 Axes>"
      ]
     },
     "metadata": {},
     "output_type": "display_data"
    }
   ],
   "source": [
    "# Using Seaborn for Visual Appeal\n",
    "\n",
    "# Create box plot\n",
    "plt.figure(figsize=(8, 6))\n",
    "sns.boxplot(x='participant_status', y='caloric_intake', data=merged_df, palette='pastel')\n",
    "\n",
    "# Add labels and title\n",
    "plt.xlabel('Participant Status')\n",
    "plt.ylabel('Caloric Intake')\n",
    "plt.title('Distribution of Caloric Intake by Participant Status')\n",
    "\n",
    "# Show plot\n",
    "plt.show()"
   ]
  },
  {
   "cell_type": "markdown",
   "metadata": {},
   "source": [
    "# Question - 2 \n",
    "\n",
    "Does the mean calorie consumption for those who participated in the meal preparation differ from **425**? Formally test at the $\\alpha = 0.05$ level using the 5 steps outlined in the module. **(6 points)**\n"
   ]
  },
  {
   "cell_type": "code",
   "execution_count": 10,
   "metadata": {},
   "outputs": [
    {
     "name": "stdout",
     "output_type": "stream",
     "text": [
      "Test Statistic (t): -0.6139385690489593\n",
      "Critical Value: 1.7108820799094278\n",
      "p-value: 0.5450319510318797\n",
      "Fail to reject the null hypothesis. There is not sufficient evidence to conclude that the mean calorie consumption differs from 425.\n"
     ]
    }
   ],
   "source": [
    "import numpy as np\n",
    "from scipy.stats import t\n",
    "\n",
    "# Step 1: Set up the hypotheses and select the alpha level\n",
    "# Null Hypothesis: The mean calorie consumption for participants is 425\n",
    "# Alternative Hypothesis: The mean calorie consumption for participants differs from 425\n",
    "# alpha level\n",
    "alpha = 0.10\n",
    "\n",
    "# Step 2: Select the appropriate test statistic (t-statistic)\n",
    "# Calculate the sample mean, sample standard deviation, and sample size\n",
    "sample_mean = participants['caloric_intake'].mean()\n",
    "sample_std = participants['caloric_intake'].std()\n",
    "sample_size = participants['caloric_intake'].count()\n",
    "\n",
    "# Calculate the t-statistic\n",
    "t_statistic = (sample_mean - 425) / (sample_std / np.sqrt(sample_size))\n",
    "\n",
    "# Step 3: State the decision rule\n",
    "# Degrees of freedom\n",
    "df = sample_size - 1\n",
    "\n",
    "# Determine the critical value from the t-distribution\n",
    "critical_value = t.ppf(1 - alpha/2, df)\n",
    "\n",
    "# Step 4: Compute the test statistic and the associated p-value\n",
    "# p-value (two-tailed test)\n",
    "p_value = 2 * (1 - t.cdf(np.abs(t_statistic), df))\n",
    "\n",
    "# Step 5: Conclusion\n",
    "print(\"Test Statistic (t):\", t_statistic)\n",
    "print(\"Critical Value:\", critical_value)\n",
    "print(\"p-value:\", p_value)\n",
    "\n",
    "# Compare the test statistic with the critical value and p-value with alpha\n",
    "if np.abs(t_statistic) > critical_value:\n",
    "    print(\"Reject the null hypothesis. There is sufficient evidence to conclude that the mean calorie consumption differs from 425.\")\n",
    "else:\n",
    "    print(\"Fail to reject the null hypothesis. There is not sufficient evidence to conclude that the mean calorie consumption differs from 425.\")\n"
   ]
  },
  {
   "cell_type": "markdown",
   "metadata": {},
   "source": [
    "# Question -3 \n",
    "Calculate a **90%** confidence interval for the mean calorie intake for participants in the meal preparation. Interpret the confidence interval. **(6 points)**"
   ]
  },
  {
   "cell_type": "code",
   "execution_count": 11,
   "metadata": {},
   "outputs": [
    {
     "name": "stdout",
     "output_type": "stream",
     "text": [
      "Sample Mean: 410.07959999999997\n",
      "Sample Standard Deviation: 121.51378616848378\n",
      "Sample Size: 25\n",
      "Degrees of Freedom: 24\n",
      "Critical Value (t): 1.7108820799094278\n",
      "Margin of Error: 41.579151843521\n",
      "90% Confidence Interval: (368.50044815647897, 451.658751843521)\n"
     ]
    }
   ],
   "source": [
    "import numpy as np\n",
    "from scipy.stats import t\n",
    "\n",
    "# Sample mean, sample standard deviation, and sample size\n",
    "sample_mean = participants['caloric_intake'].mean()\n",
    "sample_std = participants['caloric_intake'].std()\n",
    "sample_size = participants['caloric_intake'].count()\n",
    "\n",
    "# Degrees of freedom\n",
    "df = sample_size - 1\n",
    "\n",
    "# Critical value from the t-distribution for a 90% confidence level\n",
    "alpha = 0.10  # 1 - confidence level\n",
    "t_critical = t.ppf(1 - alpha / 2, df)\n",
    "\n",
    "# Margin of error\n",
    "margin_of_error = t_critical * (sample_std / np.sqrt(sample_size))\n",
    "\n",
    "# Confidence interval\n",
    "confidence_interval = (sample_mean - margin_of_error, sample_mean + margin_of_error)\n",
    "\n",
    "print(\"Sample Mean:\", sample_mean)\n",
    "print(\"Sample Standard Deviation:\", sample_std)\n",
    "print(\"Sample Size:\", sample_size)\n",
    "print(\"Degrees of Freedom:\", df)\n",
    "print(\"Critical Value (t):\", t_critical)\n",
    "print(\"Margin of Error:\", margin_of_error)\n",
    "print(\"90% Confidence Interval:\", confidence_interval)\n"
   ]
  },
  {
   "cell_type": "markdown",
   "metadata": {},
   "source": [
    "The 90% confidence interval (368.50, 451.66) for the mean calorie intake for participants in the meal preparation suggests that we are 90% confident that the true population mean calorie intake falls within this range.\n",
    "\n",
    "Interpretation:\n",
    "- The lower bound of the confidence interval, 368.50, indicates that we are 90% confident that the true mean calorie intake for participants is at least 368.50 calories.\n",
    "- The upper bound of the confidence interval, 451.66, suggests that we are 90% confident that the true mean calorie intake for participants is no more than 451.66 calories.\n",
    "\n",
    "If we were to conduct repeated sampling and construct confidence intervals in the same manner, we would expect approximately 90% of those intervals to contain the true population mean calorie intake for participants in the meal preparation."
   ]
  },
  {
   "cell_type": "markdown",
   "metadata": {},
   "source": [
    "# Question 4 \n",
    "Formally test whether or not participants consumed \n",
    "more calories than non-participants at the $\\alpha = 0.05$ level using the 5 steps procedure for hypothesis tests. **(6 points )**"
   ]
  },
  {
   "cell_type": "code",
   "execution_count": 12,
   "metadata": {},
   "outputs": [],
   "source": [
    "participants.drop(columns=['participant_status'], inplace=True)\n",
    "nonparticipants.drop(columns=['participant_status'], inplace=True)\n"
   ]
  },
  {
   "cell_type": "code",
   "execution_count": 13,
   "metadata": {},
   "outputs": [
    {
     "name": "stdout",
     "output_type": "stream",
     "text": [
      "Test statistic: [0.96935044]\n",
      "p-value: [0.16877591]\n",
      "Fail to reject the null hypothesis. There is no evidence that participants consumed more calories than non-participants.\n"
     ]
    }
   ],
   "source": [
    "from scipy import stats\n",
    "\n",
    "# Step 1: Set up the hypotheses and select the alpha level\n",
    "alpha = 0.05  # Significance level\n",
    "\n",
    "# Null hypothesis: The mean caloric intake of participants is equal to the mean caloric intake of non-participants.\n",
    "# Alternative hypothesis: The mean caloric intake of participants is greater than the mean caloric intake of non-participants.\n",
    "\n",
    "# Step 2: Select the appropriate test statistic\n",
    "# Independent samples t-test is appropriate for comparing means of two groups.\n",
    "\n",
    "# Step 3: State the decision rule\n",
    "# We will reject the null hypothesis if the p-value is less than alpha.\n",
    "\n",
    "# Step 4: Compute the test statistic and the associated p-value\n",
    "t_statistic, p_value = stats.ttest_ind(participants, nonparticipants, alternative='greater')\n",
    "\n",
    "# Step 5: Draw a conclusion based on the test statistic, critical value, and alpha level\n",
    "print(\"Test statistic:\", t_statistic)\n",
    "print(\"p-value:\", p_value)\n",
    "\n",
    "if p_value < alpha:\n",
    "    print(\"Reject the null hypothesis. Participants consumed more calories than non-participants.\")\n",
    "else:\n",
    "    print(\"Fail to reject the null hypothesis. There is no evidence that participants consumed more calories than non-participants.\")\n"
   ]
  }
 ],
 "metadata": {
  "kernelspec": {
   "display_name": "Python 3 (ipykernel)",
   "language": "python",
   "name": "python3"
  },
  "language_info": {
   "codemirror_mode": {
    "name": "ipython",
    "version": 3
   },
   "file_extension": ".py",
   "mimetype": "text/x-python",
   "name": "python",
   "nbconvert_exporter": "python",
   "pygments_lexer": "ipython3",
   "version": "3.8.17"
  }
 },
 "nbformat": 4,
 "nbformat_minor": 4
}
