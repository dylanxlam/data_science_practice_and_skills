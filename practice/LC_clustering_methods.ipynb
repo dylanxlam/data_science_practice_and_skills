{
  "cells": [
    {
      "cell_type": "markdown",
      "metadata": {
        "id": "IX5g_EhLWWFh"
      },
      "source": [
        "Q1"
      ]
    },
    {
      "cell_type": "code",
      "execution_count": 11,
      "metadata": {
        "id": "OxDWEFyMV6p0"
      },
      "outputs": [],
      "source": [
        "import pandas as pd\n",
        "import numpy as np\n",
        "import matplotlib.pyplot as plt"
      ]
    },
    {
      "cell_type": "code",
      "execution_count": 12,
      "metadata": {
        "colab": {
          "base_uri": "https://localhost:8080/",
          "height": 206
        },
        "id": "i0kCkn-HWKkW",
        "outputId": "4134b515-a25a-43f6-b749-ef48989ef0b3"
      },
      "outputs": [
        {
          "data": {
            "text/html": [
              "<div>\n",
              "<style scoped>\n",
              "    .dataframe tbody tr th:only-of-type {\n",
              "        vertical-align: middle;\n",
              "    }\n",
              "\n",
              "    .dataframe tbody tr th {\n",
              "        vertical-align: top;\n",
              "    }\n",
              "\n",
              "    .dataframe thead th {\n",
              "        text-align: right;\n",
              "    }\n",
              "</style>\n",
              "<table border=\"1\" class=\"dataframe\">\n",
              "  <thead>\n",
              "    <tr style=\"text-align: right;\">\n",
              "      <th></th>\n",
              "      <th>Feature1</th>\n",
              "      <th>Feature2</th>\n",
              "      <th>Label</th>\n",
              "    </tr>\n",
              "  </thead>\n",
              "  <tbody>\n",
              "    <tr>\n",
              "      <th>0</th>\n",
              "      <td>-0.929528</td>\n",
              "      <td>-9.866809</td>\n",
              "      <td>0</td>\n",
              "    </tr>\n",
              "    <tr>\n",
              "      <th>1</th>\n",
              "      <td>-2.064504</td>\n",
              "      <td>-3.640057</td>\n",
              "      <td>1</td>\n",
              "    </tr>\n",
              "    <tr>\n",
              "      <th>2</th>\n",
              "      <td>-3.718791</td>\n",
              "      <td>-4.903395</td>\n",
              "      <td>2</td>\n",
              "    </tr>\n",
              "    <tr>\n",
              "      <th>3</th>\n",
              "      <td>-1.331214</td>\n",
              "      <td>-9.305812</td>\n",
              "      <td>0</td>\n",
              "    </tr>\n",
              "    <tr>\n",
              "      <th>4</th>\n",
              "      <td>-6.436536</td>\n",
              "      <td>0.336705</td>\n",
              "      <td>3</td>\n",
              "    </tr>\n",
              "  </tbody>\n",
              "</table>\n",
              "</div>"
            ],
            "text/plain": [
              "   Feature1  Feature2  Label\n",
              "0 -0.929528 -9.866809      0\n",
              "1 -2.064504 -3.640057      1\n",
              "2 -3.718791 -4.903395      2\n",
              "3 -1.331214 -9.305812      0\n",
              "4 -6.436536  0.336705      3"
            ]
          },
          "execution_count": 12,
          "metadata": {},
          "output_type": "execute_result"
        }
      ],
      "source": [
        "from zipfile import ZipFile\n",
        "\n",
        "\n",
        "# Specify the zip file path\n",
        "zip_file_path = \"/Users/dylanlam/Documents/GitHub/data_science_practice_and_skills/datasets/q4-data.csv.zip\"\n",
        "\n",
        "\n",
        "data_filepath = 'q4-data.csv'  # Assuming CSV file inside the zip\n",
        "\n",
        "with ZipFile(zip_file_path, 'r') as zip_ref:\n",
        "  # Get a list of file names within the zip\n",
        "  file_names = zip_ref.namelist()\n",
        "\n",
        "\n",
        "  # Read the specific CSV file from the zip\n",
        "  with zip_ref.open(\"q4-data.csv\") as csv_file:\n",
        "    df = pd.read_csv(csv_file)  # No compression argument needed here\n",
        "\n",
        "df.head()"
      ]
    },
    {
      "cell_type": "code",
      "execution_count": 19,
      "metadata": {
        "colab": {
          "base_uri": "https://localhost:8080/"
        },
        "id": "WS_kuzK3WULk",
        "outputId": "64b14227-b5cf-4a90-9e7a-0d5668c31f87"
      },
      "outputs": [
        {
          "name": "stdout",
          "output_type": "stream",
          "text": [
            "0.805384903157843\n"
          ]
        },
        {
          "name": "stderr",
          "output_type": "stream",
          "text": [
            "/Users/dylanlam/miniconda3/envs/myenv/lib/python3.8/site-packages/sklearn/cluster/_kmeans.py:870: FutureWarning: The default value of `n_init` will change from 10 to 'auto' in 1.4. Set the value of `n_init` explicitly to suppress the warning\n",
            "  warnings.warn(\n"
          ]
        }
      ],
      "source": [
        "from sklearn.metrics import silhouette_score\n",
        "from sklearn.cluster import KMeans\n",
        "\n",
        "X = df[['Feature1', 'Feature2']]\n",
        "kmeans = KMeans(n_clusters=3, random_state=42)\n",
        "kmeans.fit(X)\n",
        "labels = kmeans.labels_\n",
        "silhouette_score = silhouette_score(X, labels)\n",
        "print(silhouette_score)\n"
      ]
    },
    {
      "cell_type": "markdown",
      "metadata": {
        "id": "oikbBeDlXfV1"
      },
      "source": [
        "Since the Silhouette Score (0.81) is positive and close to 1, we are confident that the objects are clustered accurately and is clearly distinct from other clusters. Since the score isn't close to 0 or negative, we can be sure that the clustering done by this model is accurate for this data."
      ]
    },
    {
      "cell_type": "markdown",
      "metadata": {
        "id": "hlkdzfBVYXkk"
      },
      "source": [
        "Q2"
      ]
    },
    {
      "cell_type": "code",
      "execution_count": 20,
      "metadata": {
        "colab": {
          "base_uri": "https://localhost:8080/",
          "height": 854
        },
        "id": "8dvMftNwYYva",
        "outputId": "a7a3b915-eb4a-4abb-fbeb-ab59e78000d7"
      },
      "outputs": [
        {
          "name": "stderr",
          "output_type": "stream",
          "text": [
            "/Users/dylanlam/miniconda3/envs/myenv/lib/python3.8/site-packages/sklearn/cluster/_kmeans.py:870: FutureWarning: The default value of `n_init` will change from 10 to 'auto' in 1.4. Set the value of `n_init` explicitly to suppress the warning\n",
            "  warnings.warn(\n",
            "/Users/dylanlam/miniconda3/envs/myenv/lib/python3.8/site-packages/sklearn/cluster/_kmeans.py:870: FutureWarning: The default value of `n_init` will change from 10 to 'auto' in 1.4. Set the value of `n_init` explicitly to suppress the warning\n",
            "  warnings.warn(\n",
            "/Users/dylanlam/miniconda3/envs/myenv/lib/python3.8/site-packages/sklearn/cluster/_kmeans.py:870: FutureWarning: The default value of `n_init` will change from 10 to 'auto' in 1.4. Set the value of `n_init` explicitly to suppress the warning\n",
            "  warnings.warn(\n",
            "/Users/dylanlam/miniconda3/envs/myenv/lib/python3.8/site-packages/sklearn/cluster/_kmeans.py:870: FutureWarning: The default value of `n_init` will change from 10 to 'auto' in 1.4. Set the value of `n_init` explicitly to suppress the warning\n",
            "  warnings.warn(\n",
            "/Users/dylanlam/miniconda3/envs/myenv/lib/python3.8/site-packages/sklearn/cluster/_kmeans.py:870: FutureWarning: The default value of `n_init` will change from 10 to 'auto' in 1.4. Set the value of `n_init` explicitly to suppress the warning\n",
            "  warnings.warn(\n",
            "/Users/dylanlam/miniconda3/envs/myenv/lib/python3.8/site-packages/sklearn/cluster/_kmeans.py:870: FutureWarning: The default value of `n_init` will change from 10 to 'auto' in 1.4. Set the value of `n_init` explicitly to suppress the warning\n",
            "  warnings.warn(\n",
            "/Users/dylanlam/miniconda3/envs/myenv/lib/python3.8/site-packages/sklearn/cluster/_kmeans.py:870: FutureWarning: The default value of `n_init` will change from 10 to 'auto' in 1.4. Set the value of `n_init` explicitly to suppress the warning\n",
            "  warnings.warn(\n"
          ]
        },
        {
          "name": "stdout",
          "output_type": "stream",
          "text": [
            "Number of Clusters: 2 SSE: 6439.122196719902\n",
            "Number of Clusters: 3 SSE: 1152.4397429815463\n",
            "Number of Clusters: 4 SSE: 215.28586814501494\n",
            "Number of Clusters: 5 SSE: 196.78411472830257\n",
            "Number of Clusters: 6 SSE: 179.42184624496934\n",
            "Number of Clusters: 7 SSE: 161.38865254441694\n",
            "Number of Clusters: 8 SSE: 144.9419819518361\n"
          ]
        },
        {
          "data": {
            "image/png": "[encoded data removed]",
            "text/plain": [
              "<Figure size 640x480 with 1 Axes>"
            ]
          },
          "metadata": {},
          "output_type": "display_data"
        }
      ],
      "source": [
        "n_clusters = [2, 3, 4, 5, 6, 7, 8]\n",
        "inertia_scores = []\n",
        "\n",
        "for k in n_clusters:\n",
        "  kmeans = KMeans(n_clusters=k, random_state=0)\n",
        "  kmeans.fit(X)\n",
        "  sse = kmeans.inertia_\n",
        "  inertia_scores.append(sse)\n",
        "\n",
        "plt.plot(n_clusters, inertia_scores, marker='s')\n",
        "plt.title('SSE vs K')\n",
        "plt.ylabel('SSE')\n",
        "plt.xlabel('Number of CLusters (k)')\n",
        "\n",
        "for i in range(len(n_clusters)):\n",
        "  print('Number of Clusters:', n_clusters[i], 'SSE:', inertia_scores[i])"
      ]
    },
    {
      "cell_type": "markdown",
      "metadata": {
        "id": "3x1rLzLRcrJU"
      },
      "source": [
        "The best K using the elbow method would be k=3 because that is the optimal point where there is a balance between number of clusters and SSE. I used the elbow method to determine this point as the optimal point as the rate of decrease in SSE after k=3 is minimal compared to the rate of decrease before k=3. This shows that increasing the number of clusters from 3 would result in negligble change in sse, and at the same time decrease the simplicity of this model."
      ]
    },
    {
      "cell_type": "markdown",
      "metadata": {
        "id": "OwGaDT1SebeG"
      },
      "source": [
        "Q3"
      ]
    },
    {
      "cell_type": "code",
      "execution_count": 15,
      "metadata": {
        "colab": {
          "base_uri": "https://localhost:8080/"
        },
        "id": "JLD8XWhBbEyd",
        "outputId": "7268d4dc-8062-43a7-fb23-270339ec5a44"
      },
      "outputs": [
        {
          "name": "stdout",
          "output_type": "stream",
          "text": [
            "Cophenetic Correlation Distance: 0.8618306643181229\n"
          ]
        }
      ],
      "source": [
        "from scipy.cluster.hierarchy import linkage,cophenet\n",
        "from scipy.spatial.distance import pdist\n",
        "\n",
        "distances = pdist(X)\n",
        "link = linkage(distances, method='single')\n",
        "cophenetic_distance = cophenet(link, distances)[0]\n",
        "\n",
        "print(\"Cophenetic Correlation Distance:\", cophenetic_distance)"
      ]
    },
    {
      "cell_type": "markdown",
      "metadata": {
        "id": "_RiiMsKehubE"
      },
      "source": [
        "The Cophenetic Correlation Distance (0.86) shows that there is a strong relationship between the distances in the observed points and distances in the predicted by hieracrchy clustering. In short, it shows that the hieracrhy sinkle linage model predicted the similar distances as found in the original data."
      ]
    },
    {
      "cell_type": "markdown",
      "metadata": {
        "id": "zZ8CzmMNiwrF"
      },
      "source": [
        "Q4"
      ]
    },
    {
      "cell_type": "code",
      "execution_count": 21,
      "metadata": {
        "colab": {
          "base_uri": "https://localhost:8080/"
        },
        "id": "oaBf8qUaixYd",
        "outputId": "51d20a26-f8b9-4307-dceb-db57438a2353"
      },
      "outputs": [
        {
          "name": "stdout",
          "output_type": "stream",
          "text": [
            "eps = 0.1 ; min_samples = 2 ; Accuracy: 0.573\n",
            "eps = 0.1 ; min_samples = 4 ; Accuracy: 0.383\n",
            "eps = 0.1 ; min_samples = 10 ; Accuracy: 0.364\n",
            "eps = 0.1 ; min_samples = 20 ; Accuracy: 0.0\n",
            "eps = 0.25 ; min_samples = 2 ; Accuracy: 0.987\n",
            "eps = 0.25 ; min_samples = 4 ; Accuracy: 0.985\n",
            "eps = 0.25 ; min_samples = 10 ; Accuracy: 0.965\n",
            "eps = 0.25 ; min_samples = 20 ; Accuracy: 0.919\n",
            "eps = 0.5 ; min_samples = 2 ; Accuracy: 1.0\n",
            "eps = 0.5 ; min_samples = 4 ; Accuracy: 1.0\n",
            "eps = 0.5 ; min_samples = 10 ; Accuracy: 1.0\n",
            "eps = 0.5 ; min_samples = 20 ; Accuracy: 0.999\n",
            "eps = 1 ; min_samples = 2 ; Accuracy: 0.5\n",
            "eps = 1 ; min_samples = 4 ; Accuracy: 0.5\n",
            "eps = 1 ; min_samples = 10 ; Accuracy: 0.5\n",
            "eps = 1 ; min_samples = 20 ; Accuracy: 0.5\n"
          ]
        }
      ],
      "source": [
        "from sklearn.cluster import DBSCAN\n",
        "from sklearn.metrics import accuracy_score\n",
        "\n",
        "y = np.array(df['Label'])\n",
        "eps = [0.1, 0.25, 0.5, 1]\n",
        "sizes = [2,4, 10, 20]\n",
        "accuracies = []\n",
        "\n",
        "for e in range(len(eps)):\n",
        "  accuracies.append([])\n",
        "  for m in range(len(sizes)):\n",
        "    epsilon = eps[e]\n",
        "    min_sam = sizes[m]\n",
        "    db = DBSCAN(eps=epsilon, min_samples=min_sam)\n",
        "    db.fit(X)\n",
        "    pred_labels = db.labels_\n",
        "    accuracy = accuracy_score(y, pred_labels)\n",
        "    accuracies[e].append(accuracy)\n",
        "    print('eps =', epsilon, '; min_samples =', min_sam, '; Accuracy:', accuracy)\n"
      ]
    },
    {
      "cell_type": "markdown",
      "metadata": {
        "id": "T5QaPKiCoLT2"
      },
      "source": [
        "The best model, based on the different combinations of parameters, is any DBSCAN model with eps=0.5. We changed the min_samples, and saw that the results were the approximately the same (accuracy of 1). We would choose the min_samples of 10 to account for the noise in such a large dataset. We would not choose min_samples value of 20 because it resulted in accuracy of 0.999, which is less than 1, even if slightly so.\n",
        "\n",
        "An accuracy of 1, indicates that the dbscan model was able to perfectly assign points into their respective clusters. However, this might be an overfit model, so we need to test this model on differnt data to better understand if this model can accurately cluster unseen data."
      ]
    }
  ],
  "metadata": {
    "colab": {
      "provenance": []
    },
    "kernelspec": {
      "display_name": "Python 3",
      "name": "python3"
    },
    "language_info": {
      "codemirror_mode": {
        "name": "ipython",
        "version": 3
      },
      "file_extension": ".py",
      "mimetype": "text/x-python",
      "name": "python",
      "nbconvert_exporter": "python",
      "pygments_lexer": "ipython3",
      "version": "3.8.17"
    }
  },
  "nbformat": 4,
  "nbformat_minor": 0
}
