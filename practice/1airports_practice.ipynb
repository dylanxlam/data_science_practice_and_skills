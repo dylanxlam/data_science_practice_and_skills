{
 "cells": [
  {
   "cell_type": "markdown",
   "id": "1c8b4824",
   "metadata": {},
   "source": [
    "## Practice loading in data\n",
    "Using the file flights.csv load it into a pandas data frame"
   ]
  },
  {
   "cell_type": "code",
   "execution_count": 78,
   "id": "99964546",
   "metadata": {},
   "outputs": [],
   "source": [
    "import pandas as pd\n",
    "\n",
    "import numpy as np\n",
    "\n",
    "import matplotlib.pyplot as plt\n",
    "%matplotlib inline"
   ]
  },
  {
   "cell_type": "code",
   "execution_count": 79,
   "id": "68e17b19",
   "metadata": {
    "scrolled": true
   },
   "outputs": [
    {
     "data": {
      "text/html": [
       "<div>\n",
       "<style scoped>\n",
       "    .dataframe tbody tr th:only-of-type {\n",
       "        vertical-align: middle;\n",
       "    }\n",
       "\n",
       "    .dataframe tbody tr th {\n",
       "        vertical-align: top;\n",
       "    }\n",
       "\n",
       "    .dataframe thead th {\n",
       "        text-align: right;\n",
       "    }\n",
       "</style>\n",
       "<table border=\"1\" class=\"dataframe\">\n",
       "  <thead>\n",
       "    <tr style=\"text-align: right;\">\n",
       "      <th></th>\n",
       "      <th>YEAR</th>\n",
       "      <th>MONTH</th>\n",
       "      <th>DAY</th>\n",
       "      <th>DAY_OF_WEEK</th>\n",
       "      <th>AIRLINE</th>\n",
       "      <th>FLIGHT_NUMBER</th>\n",
       "      <th>TAIL_NUMBER</th>\n",
       "      <th>ORIGIN_AIRPORT</th>\n",
       "      <th>DESTINATION_AIRPORT</th>\n",
       "      <th>SCHEDULED_DEPARTURE</th>\n",
       "      <th>...</th>\n",
       "      <th>ARRIVAL_TIME</th>\n",
       "      <th>ARRIVAL_DELAY</th>\n",
       "      <th>DIVERTED</th>\n",
       "      <th>CANCELLED</th>\n",
       "      <th>CANCELLATION_REASON</th>\n",
       "      <th>AIR_SYSTEM_DELAY</th>\n",
       "      <th>SECURITY_DELAY</th>\n",
       "      <th>AIRLINE_DELAY</th>\n",
       "      <th>LATE_AIRCRAFT_DELAY</th>\n",
       "      <th>WEATHER_DELAY</th>\n",
       "    </tr>\n",
       "  </thead>\n",
       "  <tbody>\n",
       "    <tr>\n",
       "      <th>0</th>\n",
       "      <td>2015</td>\n",
       "      <td>1</td>\n",
       "      <td>1</td>\n",
       "      <td>4</td>\n",
       "      <td>AS</td>\n",
       "      <td>98</td>\n",
       "      <td>N407AS</td>\n",
       "      <td>ANC</td>\n",
       "      <td>SEA</td>\n",
       "      <td>5</td>\n",
       "      <td>...</td>\n",
       "      <td>408.0</td>\n",
       "      <td>-22.0</td>\n",
       "      <td>0</td>\n",
       "      <td>0</td>\n",
       "      <td>NaN</td>\n",
       "      <td>NaN</td>\n",
       "      <td>NaN</td>\n",
       "      <td>NaN</td>\n",
       "      <td>NaN</td>\n",
       "      <td>NaN</td>\n",
       "    </tr>\n",
       "    <tr>\n",
       "      <th>1</th>\n",
       "      <td>2015</td>\n",
       "      <td>1</td>\n",
       "      <td>1</td>\n",
       "      <td>4</td>\n",
       "      <td>AA</td>\n",
       "      <td>2336</td>\n",
       "      <td>N3KUAA</td>\n",
       "      <td>LAX</td>\n",
       "      <td>PBI</td>\n",
       "      <td>10</td>\n",
       "      <td>...</td>\n",
       "      <td>741.0</td>\n",
       "      <td>-9.0</td>\n",
       "      <td>0</td>\n",
       "      <td>0</td>\n",
       "      <td>NaN</td>\n",
       "      <td>NaN</td>\n",
       "      <td>NaN</td>\n",
       "      <td>NaN</td>\n",
       "      <td>NaN</td>\n",
       "      <td>NaN</td>\n",
       "    </tr>\n",
       "    <tr>\n",
       "      <th>2</th>\n",
       "      <td>2015</td>\n",
       "      <td>1</td>\n",
       "      <td>1</td>\n",
       "      <td>4</td>\n",
       "      <td>US</td>\n",
       "      <td>840</td>\n",
       "      <td>N171US</td>\n",
       "      <td>SFO</td>\n",
       "      <td>CLT</td>\n",
       "      <td>20</td>\n",
       "      <td>...</td>\n",
       "      <td>811.0</td>\n",
       "      <td>5.0</td>\n",
       "      <td>0</td>\n",
       "      <td>0</td>\n",
       "      <td>NaN</td>\n",
       "      <td>NaN</td>\n",
       "      <td>NaN</td>\n",
       "      <td>NaN</td>\n",
       "      <td>NaN</td>\n",
       "      <td>NaN</td>\n",
       "    </tr>\n",
       "    <tr>\n",
       "      <th>3</th>\n",
       "      <td>2015</td>\n",
       "      <td>1</td>\n",
       "      <td>1</td>\n",
       "      <td>4</td>\n",
       "      <td>AA</td>\n",
       "      <td>258</td>\n",
       "      <td>N3HYAA</td>\n",
       "      <td>LAX</td>\n",
       "      <td>MIA</td>\n",
       "      <td>20</td>\n",
       "      <td>...</td>\n",
       "      <td>756.0</td>\n",
       "      <td>-9.0</td>\n",
       "      <td>0</td>\n",
       "      <td>0</td>\n",
       "      <td>NaN</td>\n",
       "      <td>NaN</td>\n",
       "      <td>NaN</td>\n",
       "      <td>NaN</td>\n",
       "      <td>NaN</td>\n",
       "      <td>NaN</td>\n",
       "    </tr>\n",
       "    <tr>\n",
       "      <th>4</th>\n",
       "      <td>2015</td>\n",
       "      <td>1</td>\n",
       "      <td>1</td>\n",
       "      <td>4</td>\n",
       "      <td>AS</td>\n",
       "      <td>135</td>\n",
       "      <td>N527AS</td>\n",
       "      <td>SEA</td>\n",
       "      <td>ANC</td>\n",
       "      <td>25</td>\n",
       "      <td>...</td>\n",
       "      <td>259.0</td>\n",
       "      <td>-21.0</td>\n",
       "      <td>0</td>\n",
       "      <td>0</td>\n",
       "      <td>NaN</td>\n",
       "      <td>NaN</td>\n",
       "      <td>NaN</td>\n",
       "      <td>NaN</td>\n",
       "      <td>NaN</td>\n",
       "      <td>NaN</td>\n",
       "    </tr>\n",
       "    <tr>\n",
       "      <th>...</th>\n",
       "      <td>...</td>\n",
       "      <td>...</td>\n",
       "      <td>...</td>\n",
       "      <td>...</td>\n",
       "      <td>...</td>\n",
       "      <td>...</td>\n",
       "      <td>...</td>\n",
       "      <td>...</td>\n",
       "      <td>...</td>\n",
       "      <td>...</td>\n",
       "      <td>...</td>\n",
       "      <td>...</td>\n",
       "      <td>...</td>\n",
       "      <td>...</td>\n",
       "      <td>...</td>\n",
       "      <td>...</td>\n",
       "      <td>...</td>\n",
       "      <td>...</td>\n",
       "      <td>...</td>\n",
       "      <td>...</td>\n",
       "      <td>...</td>\n",
       "    </tr>\n",
       "    <tr>\n",
       "      <th>299995</th>\n",
       "      <td>2015</td>\n",
       "      <td>1</td>\n",
       "      <td>20</td>\n",
       "      <td>2</td>\n",
       "      <td>WN</td>\n",
       "      <td>651</td>\n",
       "      <td>N7734H</td>\n",
       "      <td>PIT</td>\n",
       "      <td>ATL</td>\n",
       "      <td>1615</td>\n",
       "      <td>...</td>\n",
       "      <td>1800.0</td>\n",
       "      <td>-10.0</td>\n",
       "      <td>0</td>\n",
       "      <td>0</td>\n",
       "      <td>NaN</td>\n",
       "      <td>NaN</td>\n",
       "      <td>NaN</td>\n",
       "      <td>NaN</td>\n",
       "      <td>NaN</td>\n",
       "      <td>NaN</td>\n",
       "    </tr>\n",
       "    <tr>\n",
       "      <th>299996</th>\n",
       "      <td>2015</td>\n",
       "      <td>1</td>\n",
       "      <td>20</td>\n",
       "      <td>2</td>\n",
       "      <td>AA</td>\n",
       "      <td>65</td>\n",
       "      <td>N3CSAA</td>\n",
       "      <td>JFK</td>\n",
       "      <td>DFW</td>\n",
       "      <td>1615</td>\n",
       "      <td>...</td>\n",
       "      <td>1908.0</td>\n",
       "      <td>-23.0</td>\n",
       "      <td>0</td>\n",
       "      <td>0</td>\n",
       "      <td>NaN</td>\n",
       "      <td>NaN</td>\n",
       "      <td>NaN</td>\n",
       "      <td>NaN</td>\n",
       "      <td>NaN</td>\n",
       "      <td>NaN</td>\n",
       "    </tr>\n",
       "    <tr>\n",
       "      <th>299997</th>\n",
       "      <td>2015</td>\n",
       "      <td>1</td>\n",
       "      <td>20</td>\n",
       "      <td>2</td>\n",
       "      <td>AA</td>\n",
       "      <td>165</td>\n",
       "      <td>N3LNAA</td>\n",
       "      <td>BOS</td>\n",
       "      <td>LAX</td>\n",
       "      <td>1615</td>\n",
       "      <td>...</td>\n",
       "      <td>1929.0</td>\n",
       "      <td>-20.0</td>\n",
       "      <td>0</td>\n",
       "      <td>0</td>\n",
       "      <td>NaN</td>\n",
       "      <td>NaN</td>\n",
       "      <td>NaN</td>\n",
       "      <td>NaN</td>\n",
       "      <td>NaN</td>\n",
       "      <td>NaN</td>\n",
       "    </tr>\n",
       "    <tr>\n",
       "      <th>299998</th>\n",
       "      <td>2015</td>\n",
       "      <td>1</td>\n",
       "      <td>20</td>\n",
       "      <td>2</td>\n",
       "      <td>AA</td>\n",
       "      <td>103</td>\n",
       "      <td>N437AA</td>\n",
       "      <td>MSY</td>\n",
       "      <td>DFW</td>\n",
       "      <td>1615</td>\n",
       "      <td>...</td>\n",
       "      <td>1758.0</td>\n",
       "      <td>0.0</td>\n",
       "      <td>0</td>\n",
       "      <td>0</td>\n",
       "      <td>NaN</td>\n",
       "      <td>NaN</td>\n",
       "      <td>NaN</td>\n",
       "      <td>NaN</td>\n",
       "      <td>NaN</td>\n",
       "      <td>NaN</td>\n",
       "    </tr>\n",
       "    <tr>\n",
       "      <th>299999</th>\n",
       "      <td>2015</td>\n",
       "      <td>1</td>\n",
       "      <td>20</td>\n",
       "      <td>2</td>\n",
       "      <td>AA</td>\n",
       "      <td>379</td>\n",
       "      <td>N860AA</td>\n",
       "      <td>SFO</td>\n",
       "      <td>DFW</td>\n",
       "      <td>1615</td>\n",
       "      <td>...</td>\n",
       "      <td>2109.0</td>\n",
       "      <td>-24.0</td>\n",
       "      <td>0</td>\n",
       "      <td>0</td>\n",
       "      <td>NaN</td>\n",
       "      <td>NaN</td>\n",
       "      <td>NaN</td>\n",
       "      <td>NaN</td>\n",
       "      <td>NaN</td>\n",
       "      <td>NaN</td>\n",
       "    </tr>\n",
       "  </tbody>\n",
       "</table>\n",
       "<p>300000 rows × 31 columns</p>\n",
       "</div>"
      ],
      "text/plain": [
       "        YEAR  MONTH  DAY  DAY_OF_WEEK AIRLINE  FLIGHT_NUMBER TAIL_NUMBER  \\\n",
       "0       2015      1    1            4      AS             98      N407AS   \n",
       "1       2015      1    1            4      AA           2336      N3KUAA   \n",
       "2       2015      1    1            4      US            840      N171US   \n",
       "3       2015      1    1            4      AA            258      N3HYAA   \n",
       "4       2015      1    1            4      AS            135      N527AS   \n",
       "...      ...    ...  ...          ...     ...            ...         ...   \n",
       "299995  2015      1   20            2      WN            651      N7734H   \n",
       "299996  2015      1   20            2      AA             65      N3CSAA   \n",
       "299997  2015      1   20            2      AA            165      N3LNAA   \n",
       "299998  2015      1   20            2      AA            103      N437AA   \n",
       "299999  2015      1   20            2      AA            379      N860AA   \n",
       "\n",
       "       ORIGIN_AIRPORT DESTINATION_AIRPORT  SCHEDULED_DEPARTURE  ...  \\\n",
       "0                 ANC                 SEA                    5  ...   \n",
       "1                 LAX                 PBI                   10  ...   \n",
       "2                 SFO                 CLT                   20  ...   \n",
       "3                 LAX                 MIA                   20  ...   \n",
       "4                 SEA                 ANC                   25  ...   \n",
       "...               ...                 ...                  ...  ...   \n",
       "299995            PIT                 ATL                 1615  ...   \n",
       "299996            JFK                 DFW                 1615  ...   \n",
       "299997            BOS                 LAX                 1615  ...   \n",
       "299998            MSY                 DFW                 1615  ...   \n",
       "299999            SFO                 DFW                 1615  ...   \n",
       "\n",
       "        ARRIVAL_TIME  ARRIVAL_DELAY  DIVERTED  CANCELLED  CANCELLATION_REASON  \\\n",
       "0              408.0          -22.0         0          0                  NaN   \n",
       "1              741.0           -9.0         0          0                  NaN   \n",
       "2              811.0            5.0         0          0                  NaN   \n",
       "3              756.0           -9.0         0          0                  NaN   \n",
       "4              259.0          -21.0         0          0                  NaN   \n",
       "...              ...            ...       ...        ...                  ...   \n",
       "299995        1800.0          -10.0         0          0                  NaN   \n",
       "299996        1908.0          -23.0         0          0                  NaN   \n",
       "299997        1929.0          -20.0         0          0                  NaN   \n",
       "299998        1758.0            0.0         0          0                  NaN   \n",
       "299999        2109.0          -24.0         0          0                  NaN   \n",
       "\n",
       "        AIR_SYSTEM_DELAY  SECURITY_DELAY  AIRLINE_DELAY  LATE_AIRCRAFT_DELAY  \\\n",
       "0                    NaN             NaN            NaN                  NaN   \n",
       "1                    NaN             NaN            NaN                  NaN   \n",
       "2                    NaN             NaN            NaN                  NaN   \n",
       "3                    NaN             NaN            NaN                  NaN   \n",
       "4                    NaN             NaN            NaN                  NaN   \n",
       "...                  ...             ...            ...                  ...   \n",
       "299995               NaN             NaN            NaN                  NaN   \n",
       "299996               NaN             NaN            NaN                  NaN   \n",
       "299997               NaN             NaN            NaN                  NaN   \n",
       "299998               NaN             NaN            NaN                  NaN   \n",
       "299999               NaN             NaN            NaN                  NaN   \n",
       "\n",
       "        WEATHER_DELAY  \n",
       "0                 NaN  \n",
       "1                 NaN  \n",
       "2                 NaN  \n",
       "3                 NaN  \n",
       "4                 NaN  \n",
       "...               ...  \n",
       "299995            NaN  \n",
       "299996            NaN  \n",
       "299997            NaN  \n",
       "299998            NaN  \n",
       "299999            NaN  \n",
       "\n",
       "[300000 rows x 31 columns]"
      ]
     },
     "execution_count": 79,
     "metadata": {},
     "output_type": "execute_result"
    }
   ],
   "source": [
    "df = pd.read_csv('/Users/dylanlam/Documents/GitHub/data_science_practice_and_skills/datasets/flightsSmall30k.csv')\n",
    "df"
   ]
  },
  {
   "cell_type": "code",
   "execution_count": 80,
   "id": "8a4a157b",
   "metadata": {},
   "outputs": [
    {
     "name": "stdout",
     "output_type": "stream",
     "text": [
      "<class 'pandas.core.frame.DataFrame'>\n",
      "RangeIndex: 300000 entries, 0 to 299999\n",
      "Data columns (total 31 columns):\n",
      " #   Column               Non-Null Count   Dtype  \n",
      "---  ------               --------------   -----  \n",
      " 0   YEAR                 300000 non-null  int64  \n",
      " 1   MONTH                300000 non-null  int64  \n",
      " 2   DAY                  300000 non-null  int64  \n",
      " 3   DAY_OF_WEEK          300000 non-null  int64  \n",
      " 4   AIRLINE              300000 non-null  object \n",
      " 5   FLIGHT_NUMBER        300000 non-null  int64  \n",
      " 6   TAIL_NUMBER          299505 non-null  object \n",
      " 7   ORIGIN_AIRPORT       300000 non-null  object \n",
      " 8   DESTINATION_AIRPORT  300000 non-null  object \n",
      " 9   SCHEDULED_DEPARTURE  300000 non-null  int64  \n",
      " 10  DEPARTURE_TIME       294561 non-null  float64\n",
      " 11  DEPARTURE_DELAY      294561 non-null  float64\n",
      " 12  TAXI_OUT             294390 non-null  float64\n",
      " 13  WHEELS_OFF           294390 non-null  float64\n",
      " 14  SCHEDULED_TIME       300000 non-null  int64  \n",
      " 15  ELAPSED_TIME         293634 non-null  float64\n",
      " 16  AIR_TIME             293634 non-null  float64\n",
      " 17  DISTANCE             300000 non-null  int64  \n",
      " 18  WHEELS_ON            294130 non-null  float64\n",
      " 19  TAXI_IN              294130 non-null  float64\n",
      " 20  SCHEDULED_ARRIVAL    300000 non-null  int64  \n",
      " 21  ARRIVAL_TIME         294130 non-null  float64\n",
      " 22  ARRIVAL_DELAY        293634 non-null  float64\n",
      " 23  DIVERTED             300000 non-null  int64  \n",
      " 24  CANCELLED            300000 non-null  int64  \n",
      " 25  CANCELLATION_REASON  5686 non-null    object \n",
      " 26  AIR_SYSTEM_DELAY     72243 non-null   float64\n",
      " 27  SECURITY_DELAY       72243 non-null   float64\n",
      " 28  AIRLINE_DELAY        72243 non-null   float64\n",
      " 29  LATE_AIRCRAFT_DELAY  72243 non-null   float64\n",
      " 30  WEATHER_DELAY        72243 non-null   float64\n",
      "dtypes: float64(15), int64(11), object(5)\n",
      "memory usage: 71.0+ MB\n"
     ]
    }
   ],
   "source": [
    "df.info()"
   ]
  },
  {
   "cell_type": "markdown",
   "id": "d627807d",
   "metadata": {},
   "source": [
    "## Q1 - How many unique Airlines are there in this dataset? (2 points)"
   ]
  },
  {
   "cell_type": "code",
   "execution_count": 81,
   "id": "7b9e636f",
   "metadata": {},
   "outputs": [
    {
     "data": {
      "text/plain": [
       "14"
      ]
     },
     "execution_count": 81,
     "metadata": {},
     "output_type": "execute_result"
    }
   ],
   "source": [
    "df['AIRLINE'].nunique()"
   ]
  },
  {
   "cell_type": "markdown",
   "id": "6c924608",
   "metadata": {},
   "source": [
    "## Q2 - What is the mean departure delay of all flights considering only the positive departure delay values? (2 points)\n",
    "Negative delay value means that the flight left earlier than scheduled. \n",
    "\n",
    "\n"
   ]
  },
  {
   "cell_type": "code",
   "execution_count": 99,
   "id": "681a41da",
   "metadata": {},
   "outputs": [
    {
     "data": {
      "text/plain": [
       "0"
      ]
     },
     "execution_count": 99,
     "metadata": {},
     "output_type": "execute_result"
    }
   ],
   "source": [
    "# Checking if df of positives is truly positives\n",
    "positive = df[df['DEPARTURE_DELAY'] > 0]\n",
    "positive[positive['DEPARTURE_DELAY'] < 0]['DEPARTURE_DELAY'].count()"
   ]
  },
  {
   "cell_type": "code",
   "execution_count": 84,
   "id": "e2fae7a7",
   "metadata": {},
   "outputs": [
    {
     "data": {
      "text/plain": [
       "34.803498533223646"
      ]
     },
     "execution_count": 84,
     "metadata": {},
     "output_type": "execute_result"
    }
   ],
   "source": [
    "positive['DEPARTURE_DELAY'].mean()\n"
   ]
  },
  {
   "cell_type": "markdown",
   "id": "10ef3f38",
   "metadata": {},
   "source": [
    "# Q3 - Find a list of all airport (Origin or destination airports). (2 points)\n",
    "The returned value should be a list in Python. \n"
   ]
  },
  {
   "cell_type": "code",
   "execution_count": 85,
   "id": "f9b93f54",
   "metadata": {},
   "outputs": [
    {
     "name": "stdout",
     "output_type": "stream",
     "text": [
      "['SEA', 'ANC', 'PBI', 'LAX', 'CLT', 'SFO', 'MIA', 'MSP', 'LAS', 'DFW', 'ATL', 'DEN', 'SLC', 'IAH', 'PDX', 'MCI', 'FAI', 'FLL', 'ORD', 'PHX', 'HNL', 'EWR', 'SJU', 'JFK', 'PBG', 'IAG', 'MCO', 'PSE', 'BQN', 'BOS', 'BDL', 'GEG', 'ITO', 'ONT', 'KOA', 'OGG', 'MYR', 'HIB', 'ABR', 'MAF', 'MKE', 'DTW', 'BNA', 'BRO', 'VPS', 'BOI', 'BJI', 'LIH', 'SGF', 'PHL', 'SBN', 'RDD', 'EUG', 'IAD', 'BUF', 'PWM', 'CRP', 'PIA', 'FAT', 'SMF', 'AUS', 'BWI', 'JAX', 'MFR', 'IDA', 'MSN', 'DCA', 'SAT', 'CHS', 'SBA', 'SMX', 'IND', 'CLE', 'GSP', 'ABI', 'RIC', 'BFL', 'OMA', 'RDM', 'CID', 'TPA', 'SYR', 'ROC', 'TYR', 'LAN', 'XNA', 'GSO', 'LGA', 'RSW', 'OAK', 'PVD', 'RNO', 'PIT', 'HOU', 'ABQ', 'TUL', 'LIT', 'MSY', 'OKC', 'SJC', 'LGB', 'ATW', 'PNS', 'MEM', 'TYS', 'MHT', 'SAV', 'GRB', 'ABE', 'JAN', 'OAJ', 'FAR', 'ERI', 'LEX', 'CWA', 'MSO', 'TTN', 'AMA', 'CLL', 'BTR', 'JLN', 'MLI', 'RDU', 'CVG', 'MHK', 'MOB', 'TLH', 'BHM', 'CAE', 'TXK', 'ACY', 'RAP', 'TUS', 'EAU', 'DLH', 'FSD', 'BRD', 'INL', 'CMX', 'SPI', 'CLD', 'COD', 'CMH', 'LRD', 'PSC', 'CPR', 'ACV', 'DAL', 'PAH', 'MRY', 'ESC', 'ISN', 'PSP', 'STL', 'MFE', 'BTV', 'FSM', 'AEX', 'SPS', 'ACT', 'SJT', 'MTJ', 'RKS', 'GCC', 'MBS', 'GUC', 'ORF', 'MOT', 'MLU', 'SNA', 'SAN', 'LAW', 'MEI', 'PIB', 'MGM', 'SBP', 'COS', 'LAR', 'DRO', 'BIS', 'MDW', 'GRI', 'HLN', 'BZN', 'MDT', 'SCE', 'TWF', 'OTZ', 'BPT', 'GPT', 'STC', 'HPN', 'MLB', 'PLN', 'CIU', 'CAK', 'DSM', 'BLI', 'SHV', 'ROW', 'FWA', 'BUR', 'ALB', 'HOB', 'LNK', 'CMI', 'COU', 'GTF', 'EKO', 'AVL', 'HSV', 'SAF', 'GRR', 'SUX', 'LFT', 'HYS', 'ELP', 'JMS', 'DVL', 'ISP', 'DAB', 'DAY', 'GRK', 'GJT', 'BMI', 'LBE', 'ASE', 'GUM', 'SCC', 'TVC', 'ALO', 'STT', 'RHI', 'IMT', 'JNU', 'LCH', 'KTN', 'JAC', 'DBQ', 'GCK', 'GNV', 'DIK', 'SDF', 'LBB', 'AVP', 'BTM', 'SRQ', 'ELM', 'PIH', 'ICT', 'SUN', 'LWS', 'VEL', 'PUB', 'HRL', 'HDN', 'ORH', 'YUM', 'FLG', 'FCA', 'BIL', 'ROA', 'CHA', 'EYW', 'CRW', 'MQT', 'CHO', 'CDC', 'EGE', 'APN', 'ECP', 'MMH', 'CEC', 'EVV', 'GFK', 'TOL', 'AGS', 'STX', 'ILM', 'WRG', 'FNT', 'CNY', 'BRW', 'MKG', 'OME', 'GGG', 'LSE', 'SIT', 'FAY', 'DHN', 'PSG', 'SGU', 'PHF', 'BET', 'AZO', 'RST', 'TRI', 'VLD', 'BQK', 'SWF', 'CSG', 'EWN', 'GTR', 'ILG', 'ABY', 'ADK', 'UST', 'YAK', 'CDV', 'OTH', 'ADQ', 'PPG']\n"
     ]
    }
   ],
   "source": [
    "unique_airports = pd.unique(df[['DESTINATION_AIRPORT', 'ORIGIN_AIRPORT']].values.ravel())\n",
    "print(list(unique_airports))"
   ]
  },
  {
   "cell_type": "markdown",
   "id": "b1e9f005",
   "metadata": {},
   "source": [
    "# Q4 - Find out which origin airport has the largest departure delay on Weekends. (2 points)\n",
    "Weekend days have the IDs of DAY_OF_WEEK 6 and 7. \n"
   ]
  },
  {
   "cell_type": "code",
   "execution_count": 109,
   "id": "9e3c35c6",
   "metadata": {},
   "outputs": [
    {
     "data": {
      "text/html": [
       "<div>\n",
       "<style scoped>\n",
       "    .dataframe tbody tr th:only-of-type {\n",
       "        vertical-align: middle;\n",
       "    }\n",
       "\n",
       "    .dataframe tbody tr th {\n",
       "        vertical-align: top;\n",
       "    }\n",
       "\n",
       "    .dataframe thead th {\n",
       "        text-align: right;\n",
       "    }\n",
       "</style>\n",
       "<table border=\"1\" class=\"dataframe\">\n",
       "  <thead>\n",
       "    <tr style=\"text-align: right;\">\n",
       "      <th></th>\n",
       "      <th>ORIGIN_AIRPORT</th>\n",
       "      <th>DEPARTURE_DELAY</th>\n",
       "    </tr>\n",
       "  </thead>\n",
       "  <tbody>\n",
       "    <tr>\n",
       "      <th>264495</th>\n",
       "      <td>LAS</td>\n",
       "      <td>1604.0</td>\n",
       "    </tr>\n",
       "  </tbody>\n",
       "</table>\n",
       "</div>"
      ],
      "text/plain": [
       "       ORIGIN_AIRPORT  DEPARTURE_DELAY\n",
       "264495            LAS           1604.0"
      ]
     },
     "execution_count": 109,
     "metadata": {},
     "output_type": "execute_result"
    }
   ],
   "source": [
    "# Checking if filtered for weekends\n",
    "weekends = df[(df['DAY_OF_WEEK'] == 6) | (df['DAY_OF_WEEK'] == 7)]\n",
    "weekends[['ORIGIN_AIRPORT','DEPARTURE_DELAY']].nlargest(1, columns = 'DEPARTURE_DELAY')"
   ]
  },
  {
   "cell_type": "markdown",
   "id": "e08ea118",
   "metadata": {},
   "source": [
    "# Q5 - Find the top 3 Airlines which had the largest mean departure delay in the month of January (2 points)\n",
    "Month of January has the id of 1. Consider only flights with the positive departure delay. "
   ]
  },
  {
   "cell_type": "code",
   "execution_count": 106,
   "id": "448df603",
   "metadata": {
    "scrolled": true
   },
   "outputs": [
    {
     "data": {
      "text/html": [
       "<div>\n",
       "<style scoped>\n",
       "    .dataframe tbody tr th:only-of-type {\n",
       "        vertical-align: middle;\n",
       "    }\n",
       "\n",
       "    .dataframe tbody tr th {\n",
       "        vertical-align: top;\n",
       "    }\n",
       "\n",
       "    .dataframe thead th {\n",
       "        text-align: right;\n",
       "    }\n",
       "</style>\n",
       "<table border=\"1\" class=\"dataframe\">\n",
       "  <thead>\n",
       "    <tr style=\"text-align: right;\">\n",
       "      <th></th>\n",
       "      <th>DEPARTURE_DELAY</th>\n",
       "    </tr>\n",
       "    <tr>\n",
       "      <th>AIRLINE</th>\n",
       "      <th></th>\n",
       "    </tr>\n",
       "  </thead>\n",
       "  <tbody>\n",
       "    <tr>\n",
       "      <th>F9</th>\n",
       "      <td>51.338608</td>\n",
       "    </tr>\n",
       "    <tr>\n",
       "      <th>OO</th>\n",
       "      <td>46.357307</td>\n",
       "    </tr>\n",
       "    <tr>\n",
       "      <th>MQ</th>\n",
       "      <td>46.133754</td>\n",
       "    </tr>\n",
       "  </tbody>\n",
       "</table>\n",
       "</div>"
      ],
      "text/plain": [
       "         DEPARTURE_DELAY\n",
       "AIRLINE                 \n",
       "F9             51.338608\n",
       "OO             46.357307\n",
       "MQ             46.133754"
      ]
     },
     "execution_count": 106,
     "metadata": {},
     "output_type": "execute_result"
    }
   ],
   "source": [
    "january_flights = df[(df['MONTH'] == 1) & (df['DEPARTURE_DELAY'] > 0)]\n",
    "january_flights[['DEPARTURE_DELAY', 'AIRLINE']].groupby(by = ['AIRLINE']).mean().nlargest(3, columns = 'DEPARTURE_DELAY')"
   ]
  },
  {
   "cell_type": "markdown",
   "id": "8597d834",
   "metadata": {},
   "source": [
    "## Q6 - What percentage of flights out of Austin (AUS) are canceled? (2 points)\n",
    "The column field \"CANCELLED\" will be equal to one of the flight is cancelled. "
   ]
  },
  {
   "cell_type": "code",
   "execution_count": 90,
   "id": "1f8c82db",
   "metadata": {},
   "outputs": [
    {
     "name": "stdout",
     "output_type": "stream",
     "text": [
      "1.53%\n"
     ]
    }
   ],
   "source": [
    "austin_flights = df[df['ORIGIN_AIRPORT'] == 'AUS']\n",
    "cancelled_austin_flights = austin_flights[austin_flights['CANCELLED'] == 1]\n",
    "\n",
    "print(f\"{((cancelled_austin_flights['CANCELLED'].count()) / (austin_flights['CANCELLED'].count()) * 100):.2f}%\")\n"
   ]
  },
  {
   "cell_type": "markdown",
   "id": "fd991a67",
   "metadata": {},
   "source": [
    "# Q7 - Which origin airport has the most cancellation of departure flights? (2 points)\n"
   ]
  },
  {
   "cell_type": "code",
   "execution_count": 107,
   "id": "5bcdd8f1",
   "metadata": {},
   "outputs": [
    {
     "data": {
      "text/html": [
       "<div>\n",
       "<style scoped>\n",
       "    .dataframe tbody tr th:only-of-type {\n",
       "        vertical-align: middle;\n",
       "    }\n",
       "\n",
       "    .dataframe tbody tr th {\n",
       "        vertical-align: top;\n",
       "    }\n",
       "\n",
       "    .dataframe thead th {\n",
       "        text-align: right;\n",
       "    }\n",
       "</style>\n",
       "<table border=\"1\" class=\"dataframe\">\n",
       "  <thead>\n",
       "    <tr style=\"text-align: right;\">\n",
       "      <th></th>\n",
       "      <th>CANCELLED</th>\n",
       "    </tr>\n",
       "    <tr>\n",
       "      <th>ORIGIN_AIRPORT</th>\n",
       "      <th></th>\n",
       "    </tr>\n",
       "  </thead>\n",
       "  <tbody>\n",
       "    <tr>\n",
       "      <th>ORD</th>\n",
       "      <td>843</td>\n",
       "    </tr>\n",
       "  </tbody>\n",
       "</table>\n",
       "</div>"
      ],
      "text/plain": [
       "                CANCELLED\n",
       "ORIGIN_AIRPORT           \n",
       "ORD                   843"
      ]
     },
     "execution_count": 107,
     "metadata": {},
     "output_type": "execute_result"
    }
   ],
   "source": [
    "cancelled = df[df['CANCELLED'] == 1]\n",
    "cancels_by_origin = cancelled[['ORIGIN_AIRPORT','CANCELLED']].groupby(by = ['ORIGIN_AIRPORT']).sum()\n",
    "cancels_by_origin.nlargest(1, columns = 'CANCELLED')"
   ]
  },
  {
   "cell_type": "markdown",
   "id": "10a47962",
   "metadata": {},
   "source": [
    "## Q8 - Create a histogram plot that shows the data distribution of the arrival delays consider only positive arrival delays and smaller than 200 minutes. Use 10 minutes bin/bucket size. (2 points)"
   ]
  },
  {
   "cell_type": "code",
   "execution_count": 108,
   "id": "1e64dcd8",
   "metadata": {},
   "outputs": [
    {
     "data": {
      "text/plain": [
       "Text(0.5, 1.0, 'Distribution of Arrival Delays')"
      ]
     },
     "execution_count": 108,
     "metadata": {},
     "output_type": "execute_result"
    },
    {
     "data": {
      "image/png": "[encoded data removed]",
      "text/plain": [
       "<Figure size 640x480 with 1 Axes>"
      ]
     },
     "metadata": {},
     "output_type": "display_data"
    }
   ],
   "source": [
    "filtered_delays = df[(df['ARRIVAL_DELAY']> 0) & (df['ARRIVAL_DELAY'] < 200)]\n",
    "\n",
    "# Create histogram with 10 minutes bin size\n",
    "plt.hist(filtered_delays['ARRIVAL_DELAY'], bins = range(0,200,10), edgecolor = 'black')\n",
    "\n",
    "# Set plot labels and title\n",
    "plt.xlabel('Arrival Delay (Minutes)')\n",
    "plt.ylabel('Frequency')\n",
    "plt.title('Distribution of Arrival Delays')\n",
    "\n",
    "# plt.show() -- \"%matplotlib inline\" is ensures plots are displayed within cells"
   ]
  },
  {
   "cell_type": "markdown",
   "id": "544bc7be",
   "metadata": {},
   "source": [
    "## Q9 -  Plot a scatter plot of  flight travel air time and distance. Describe if there is any corrolation between them. (2 points)\n",
    "\n",
    "Describe and interpret the correlation between the two variables of distance and air travel time. "
   ]
  },
  {
   "cell_type": "code",
   "execution_count": 93,
   "id": "3558bbe9",
   "metadata": {},
   "outputs": [
    {
     "data": {
      "text/plain": [
       "Text(0.5, 1.0, 'Scatter Plot of Flight Distance vs. Air Time')"
      ]
     },
     "execution_count": 93,
     "metadata": {},
     "output_type": "execute_result"
    },
    {
     "data": {
      "image/png": "[encoded data removed]",
      "text/plain": [
       "<Figure size 640x480 with 1 Axes>"
      ]
     },
     "metadata": {},
     "output_type": "display_data"
    }
   ],
   "source": [
    "plt.scatter(df['DISTANCE'], df['AIR_TIME'], alpha = .5) # Alpha for transparency adjustment\n",
    "plt.xlabel('Flight Distance (Miles)')\n",
    "plt.ylabel('Air Time (Minutes)')\n",
    "plt.title('Scatter Plot of Flight Distance vs. Air Time')"
   ]
  },
  {
   "cell_type": "markdown",
   "id": "74c3e17b",
   "metadata": {},
   "source": [
    "The scatter plot of flight travel air time and distance shows a positive correlation between the two variables. As the distance increases, the air travel time also tends to increase. This positive correlation suggests that longer distances generally require more time for air travel.\n",
    "\n",
    "The points on the scatter plot form a roughly linear pattern, indicating a linear relationship between distance and air time. The correlation between these variables is expected, as longer distances often involve longer flight times due to factors such as cruising speed, air traffic regulations, and flight paths."
   ]
  },
  {
   "cell_type": "markdown",
   "id": "54344bbf",
   "metadata": {},
   "source": [
    "# Using the Airpot Dataset. "
   ]
  },
  {
   "cell_type": "code",
   "execution_count": 94,
   "id": "bd8f2d34",
   "metadata": {},
   "outputs": [
    {
     "data": {
      "text/html": [
       "<div>\n",
       "<style scoped>\n",
       "    .dataframe tbody tr th:only-of-type {\n",
       "        vertical-align: middle;\n",
       "    }\n",
       "\n",
       "    .dataframe tbody tr th {\n",
       "        vertical-align: top;\n",
       "    }\n",
       "\n",
       "    .dataframe thead th {\n",
       "        text-align: right;\n",
       "    }\n",
       "</style>\n",
       "<table border=\"1\" class=\"dataframe\">\n",
       "  <thead>\n",
       "    <tr style=\"text-align: right;\">\n",
       "      <th></th>\n",
       "      <th>iata</th>\n",
       "      <th>airport</th>\n",
       "      <th>city</th>\n",
       "      <th>state</th>\n",
       "      <th>country</th>\n",
       "      <th>lat</th>\n",
       "      <th>long</th>\n",
       "    </tr>\n",
       "  </thead>\n",
       "  <tbody>\n",
       "    <tr>\n",
       "      <th>0</th>\n",
       "      <td>00M</td>\n",
       "      <td>Thigpen</td>\n",
       "      <td>Bay Springs</td>\n",
       "      <td>MS</td>\n",
       "      <td>USA</td>\n",
       "      <td>31.953765</td>\n",
       "      <td>-89.234505</td>\n",
       "    </tr>\n",
       "    <tr>\n",
       "      <th>1</th>\n",
       "      <td>00R</td>\n",
       "      <td>Livingston Municipal</td>\n",
       "      <td>Livingston</td>\n",
       "      <td>TX</td>\n",
       "      <td>USA</td>\n",
       "      <td>30.685861</td>\n",
       "      <td>-95.017928</td>\n",
       "    </tr>\n",
       "    <tr>\n",
       "      <th>2</th>\n",
       "      <td>00V</td>\n",
       "      <td>Meadow Lake</td>\n",
       "      <td>Colorado Springs</td>\n",
       "      <td>CO</td>\n",
       "      <td>USA</td>\n",
       "      <td>38.945749</td>\n",
       "      <td>-104.569893</td>\n",
       "    </tr>\n",
       "    <tr>\n",
       "      <th>3</th>\n",
       "      <td>01G</td>\n",
       "      <td>Perry-Warsaw</td>\n",
       "      <td>Perry</td>\n",
       "      <td>NY</td>\n",
       "      <td>USA</td>\n",
       "      <td>42.741347</td>\n",
       "      <td>-78.052081</td>\n",
       "    </tr>\n",
       "    <tr>\n",
       "      <th>4</th>\n",
       "      <td>01J</td>\n",
       "      <td>Hilliard Airpark</td>\n",
       "      <td>Hilliard</td>\n",
       "      <td>FL</td>\n",
       "      <td>USA</td>\n",
       "      <td>30.688012</td>\n",
       "      <td>-81.905944</td>\n",
       "    </tr>\n",
       "    <tr>\n",
       "      <th>...</th>\n",
       "      <td>...</td>\n",
       "      <td>...</td>\n",
       "      <td>...</td>\n",
       "      <td>...</td>\n",
       "      <td>...</td>\n",
       "      <td>...</td>\n",
       "      <td>...</td>\n",
       "    </tr>\n",
       "    <tr>\n",
       "      <th>3371</th>\n",
       "      <td>ZEF</td>\n",
       "      <td>Elkin Municipal</td>\n",
       "      <td>Elkin</td>\n",
       "      <td>NC</td>\n",
       "      <td>USA</td>\n",
       "      <td>36.280024</td>\n",
       "      <td>-80.786069</td>\n",
       "    </tr>\n",
       "    <tr>\n",
       "      <th>3372</th>\n",
       "      <td>ZER</td>\n",
       "      <td>Schuylkill Cty/Joe Zerbey</td>\n",
       "      <td>Pottsville</td>\n",
       "      <td>PA</td>\n",
       "      <td>USA</td>\n",
       "      <td>40.706449</td>\n",
       "      <td>-76.373147</td>\n",
       "    </tr>\n",
       "    <tr>\n",
       "      <th>3373</th>\n",
       "      <td>ZPH</td>\n",
       "      <td>Zephyrhills Municipal</td>\n",
       "      <td>Zephyrhills</td>\n",
       "      <td>FL</td>\n",
       "      <td>USA</td>\n",
       "      <td>28.228065</td>\n",
       "      <td>-82.155916</td>\n",
       "    </tr>\n",
       "    <tr>\n",
       "      <th>3374</th>\n",
       "      <td>ZUN</td>\n",
       "      <td>Black Rock</td>\n",
       "      <td>Zuni</td>\n",
       "      <td>NM</td>\n",
       "      <td>USA</td>\n",
       "      <td>35.083227</td>\n",
       "      <td>-108.791777</td>\n",
       "    </tr>\n",
       "    <tr>\n",
       "      <th>3375</th>\n",
       "      <td>ZZV</td>\n",
       "      <td>Zanesville Municipal</td>\n",
       "      <td>Zanesville</td>\n",
       "      <td>OH</td>\n",
       "      <td>USA</td>\n",
       "      <td>39.944458</td>\n",
       "      <td>-81.892105</td>\n",
       "    </tr>\n",
       "  </tbody>\n",
       "</table>\n",
       "<p>3376 rows × 7 columns</p>\n",
       "</div>"
      ],
      "text/plain": [
       "     iata                    airport              city state country  \\\n",
       "0     00M                   Thigpen        Bay Springs    MS     USA   \n",
       "1     00R       Livingston Municipal        Livingston    TX     USA   \n",
       "2     00V                Meadow Lake  Colorado Springs    CO     USA   \n",
       "3     01G               Perry-Warsaw             Perry    NY     USA   \n",
       "4     01J           Hilliard Airpark          Hilliard    FL     USA   \n",
       "...   ...                        ...               ...   ...     ...   \n",
       "3371  ZEF            Elkin Municipal             Elkin    NC     USA   \n",
       "3372  ZER  Schuylkill Cty/Joe Zerbey        Pottsville    PA     USA   \n",
       "3373  ZPH      Zephyrhills Municipal       Zephyrhills    FL     USA   \n",
       "3374  ZUN                 Black Rock              Zuni    NM     USA   \n",
       "3375  ZZV       Zanesville Municipal        Zanesville    OH     USA   \n",
       "\n",
       "            lat        long  \n",
       "0     31.953765  -89.234505  \n",
       "1     30.685861  -95.017928  \n",
       "2     38.945749 -104.569893  \n",
       "3     42.741347  -78.052081  \n",
       "4     30.688012  -81.905944  \n",
       "...         ...         ...  \n",
       "3371  36.280024  -80.786069  \n",
       "3372  40.706449  -76.373147  \n",
       "3373  28.228065  -82.155916  \n",
       "3374  35.083227 -108.791777  \n",
       "3375  39.944458  -81.892105  \n",
       "\n",
       "[3376 rows x 7 columns]"
      ]
     },
     "execution_count": 94,
     "metadata": {},
     "output_type": "execute_result"
    }
   ],
   "source": [
    "# We access the dataset directly from a GitHub repository. \n",
    "# We use the same dataset as in Example 3\n",
    "# https://github.com/kiat/Elements-of-Data-Analytics/blob/main/Code-Example-003-Pandas-Dataframe-Loading-Data.ipynb\n",
    "\n",
    "airports = pd.read_csv(\"https://raw.githubusercontent.com/kiat/Elements-of-Data-Analytics/main/datasets/airline/airports.csv\") \n",
    "\n",
    "airports"
   ]
  },
  {
   "cell_type": "code",
   "execution_count": 95,
   "id": "130ba6e4",
   "metadata": {},
   "outputs": [
    {
     "name": "stdout",
     "output_type": "stream",
     "text": [
      "<class 'pandas.core.frame.DataFrame'>\n",
      "RangeIndex: 3376 entries, 0 to 3375\n",
      "Data columns (total 7 columns):\n",
      " #   Column   Non-Null Count  Dtype  \n",
      "---  ------   --------------  -----  \n",
      " 0   iata     3376 non-null   object \n",
      " 1   airport  3376 non-null   object \n",
      " 2   city     3364 non-null   object \n",
      " 3   state    3364 non-null   object \n",
      " 4   country  3376 non-null   object \n",
      " 5   lat      3376 non-null   float64\n",
      " 6   long     3376 non-null   float64\n",
      "dtypes: float64(2), object(5)\n",
      "memory usage: 184.8+ KB\n"
     ]
    }
   ],
   "source": [
    "airports.info()"
   ]
  },
  {
   "cell_type": "markdown",
   "id": "021c86fa",
   "metadata": {},
   "source": [
    "# Question - 10: Which top-3 destination cities has the highst average departure delays on Weekends? (2 points)\n",
    "\n",
    "* Consider only the positive departure delays. \n",
    "* Weekend flights have a day of week of 6 and 7\n",
    "* You need to merge the airport dataset with the flight dataset to get the destination city of each flight\n",
    "* You need to group by city and calculate the mean departure delays \n",
    "* At the end print out the top 3 of the departure delays with the average delays"
   ]
  },
  {
   "cell_type": "code",
   "execution_count": 96,
   "id": "7174bab6",
   "metadata": {},
   "outputs": [
    {
     "data": {
      "text/html": [
       "<div>\n",
       "<style scoped>\n",
       "    .dataframe tbody tr th:only-of-type {\n",
       "        vertical-align: middle;\n",
       "    }\n",
       "\n",
       "    .dataframe tbody tr th {\n",
       "        vertical-align: top;\n",
       "    }\n",
       "\n",
       "    .dataframe thead th {\n",
       "        text-align: right;\n",
       "    }\n",
       "</style>\n",
       "<table border=\"1\" class=\"dataframe\">\n",
       "  <thead>\n",
       "    <tr style=\"text-align: right;\">\n",
       "      <th></th>\n",
       "      <th>DEPARTURE_DELAY</th>\n",
       "    </tr>\n",
       "    <tr>\n",
       "      <th>city</th>\n",
       "      <th></th>\n",
       "    </tr>\n",
       "  </thead>\n",
       "  <tbody>\n",
       "    <tr>\n",
       "      <th>Alpena</th>\n",
       "      <td>151.0</td>\n",
       "    </tr>\n",
       "    <tr>\n",
       "      <th>Paducah</th>\n",
       "      <td>138.0</td>\n",
       "    </tr>\n",
       "    <tr>\n",
       "      <th>Eau Claire</th>\n",
       "      <td>125.0</td>\n",
       "    </tr>\n",
       "  </tbody>\n",
       "</table>\n",
       "</div>"
      ],
      "text/plain": [
       "            DEPARTURE_DELAY\n",
       "city                       \n",
       "Alpena                151.0\n",
       "Paducah               138.0\n",
       "Eau Claire            125.0"
      ]
     },
     "execution_count": 96,
     "metadata": {},
     "output_type": "execute_result"
    }
   ],
   "source": [
    "positive_weekend_delays = df[(df['DEPARTURE_DELAY'] > 0) & (df['DAY_OF_WEEK'].isin([6,7]))]\n",
    "merged = positive_weekend_delays.merge(airports, how = 'left', left_on = 'DESTINATION_AIRPORT', right_on = 'iata')\n",
    "(merged.groupby(['city']).mean(['DEPARTURE_DELAY']).nlargest(3, 'DEPARTURE_DELAY'))[['DEPARTURE_DELAY']]"
   ]
  },
  {
   "cell_type": "markdown",
   "id": "c0ecbfde",
   "metadata": {},
   "source": [
    "**merged notes:** The matching condition is based on the equality of values between the 'DESTINATION_AIRPORT' column in the positive_weekend_delays DataFrame and the 'iata' column in the airports DataFrame.\n",
    "- For example, if positive_weekend_delays['DESTINATION_AIRPORT'] has a value 'ABC' and airports['iata'] has a row with the value 'ABC', then these rows will be considered matching, and the information from both rows will be combined into a single row in the merged DataFrame. If there is no match, the row from positive_weekend_delays will still appear in the merged DataFrame, but the columns from airports will have NaN values.\n",
    "- When multiple rows have the same value ('ABC') in both dataframes based on the matching columns ('DESTINATION_AIRPORT' and 'iata'), the merging operation will create multiple rows in the merged DataFrame, each representing a combination of a row from positive_weekend_delays and a row from airports where the matching condition is satisfied.\n",
    "- In other words, if there are, for example, three rows in positive_weekend_delays with 'ABC' in the 'DESTINATION_AIRPORT' column and three corresponding rows in airports with 'ABC' in the 'iata' column, the resulting merged DataFrame will have a total of nine rows, where each row will represent a combination of a row from positive_weekend_delays and a row from airports."
   ]
  },
  {
   "cell_type": "markdown",
   "id": "3b58ebf9",
   "metadata": {},
   "source": []
  }
 ],
 "metadata": {
  "kernelspec": {
   "display_name": "Python 3 (ipykernel)",
   "language": "python",
   "name": "python3"
  },
  "language_info": {
   "codemirror_mode": {
    "name": "ipython",
    "version": 3
   },
   "file_extension": ".py",
   "mimetype": "text/x-python",
   "name": "python",
   "nbconvert_exporter": "python",
   "pygments_lexer": "ipython3",
   "version": "3.8.17"
  }
 },
 "nbformat": 4,
 "nbformat_minor": 5
}
