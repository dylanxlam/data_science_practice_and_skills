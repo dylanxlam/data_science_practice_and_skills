{
 "cells": [
  {
   "cell_type": "markdown",
   "metadata": {},
   "source": [
    "# **Introduction to Supervised Learning**\n",
    "\n",
    "#### **Learning Points**\n",
    "- Define supervised learning.\n",
    "- Identify features as inputs or outputs.\n",
    "- Categorize supervised learning problems as regression or classification.\n",
    "- Define interpretable models and predictive models.\n",
    "- Explain when an interpretable model should be preferred."
   ]
  },
  {
   "cell_type": "markdown",
   "metadata": {},
   "source": [
    "### **Supervised learning**\n",
    "An instance is ***labeled*** if the output feature's value is known for that instance. ***Supervised learning*** is training a model to predict a labeled output feature based on input features. The output feature is also known as the target or dependent variable. The input features are also known as features or independent variables. The purpose of supervised learning is to predict the output feature's value for unlabeled instances. Two common supervised learning processes are regression and classification."
   ]
  },
  {
   "cell_type": "markdown",
   "metadata": {},
   "source": [
    "#### **Regression**\n",
    "***Regression*** is the supervised learning process of training a model to predict a numerical output. Ex: The realtor's model that predicts the price of a house based on the other features of a house. Common regression techniques are: linear models, decision trees, random forests, and k-nearest neighbors."
   ]
  },
  {
   "cell_type": "markdown",
   "metadata": {},
   "source": [
    "#### **Classification**\n",
    "***Classification*** is the supervised learning process of training a model to predict a categorical output feature. Ex: Predicting whether a customer will buy a product, identifying whether an employee is likely to leave, or explaining why an email is spam. Common classification techniques are: logistic regression, decision trees, random forests, naive Bayes classification, support vector machines, and neural networks."
   ]
  },
  {
   "cell_type": "markdown",
   "metadata": {},
   "source": [
    "#### **Goals of supervised learning**\n",
    "Supervised learning models have two goals: to predict the values that unlabeled data will have and to explain how the inputs lead to the predicted outputs. A model is ***interpretable*** if the relationship between input and output features in the model are easy to explain. A model is ***predictive*** if the outputs produced by the model match the actual outputs with new data.\n",
    "\n",
    "A model can be both predictive and interpretable, but different clients and disciplines value one more than the other. Ex: Scientists value interpretability more to explain the effect of experiments; image recognition models value predictiveness more. Because the predictiveness of a model will vary with the situation being modeled, data scientists who need to explain relationships between features tend to value interpretability more."
   ]
  }
 ],
 "metadata": {
  "kernelspec": {
   "display_name": "myenv",
   "language": "python",
   "name": "python3"
  },
  "language_info": {
   "name": "python",
   "version": "3.8.17"
  },
  "orig_nbformat": 4
 },
 "nbformat": 4,
 "nbformat_minor": 2
}
